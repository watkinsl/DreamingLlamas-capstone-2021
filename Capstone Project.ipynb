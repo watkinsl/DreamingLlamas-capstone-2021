{
 "cells": [
  {
   "cell_type": "markdown",
   "metadata": {},
   "source": [
    "# Capstone Project"
   ]
  },
  {
   "cell_type": "markdown",
   "metadata": {},
   "source": [
    "Learning Objectives:\n",
    "\n",
    "- Incorporate Illinois Reboot toolchain into a single nose-to-tail project."
   ]
  },
  {
   "cell_type": "markdown",
   "metadata": {},
   "source": [
    "## The Data Set"
   ]
  },
  {
   "cell_type": "markdown",
   "metadata": {},
   "source": [
    "You work for a regional soft drink distribution center that has access to invoice data from convenience stores (`invoices.csv`), product data (`items.csv`), and customer reviews (the files in `reviews/`).\n",
    "\n",
    "You would like to examine the data for a few features, then plug them into a recommendation engine to see if you can improve sales.\n",
    "\n",
    "For instance, each data set should be validated and the fields (columns), basic data statistics, and any outliers should be reported.  Then further analysis can take place.\n",
    "\n",
    "You may use Bash, Python (likely Pandas), SQL, and Git to complete this project.  I make some suggestions at various junctures to consider using particular tools, but feel free to solve the problem in any manner your team finds fitting.  _The entire team should read the entire project and discuss before making any decisions about platform._\n",
    "\n",
    "You should produce a final report which responds to all of the **bolded** questions and includes full code and an explanation of its use.  You should not use a spreadsheet tool to complete any part of this project even if tempted—in particular, the `invoices.csv` file is too large to load in Microsoft Excel.\n",
    "\n",
    "In general, feel free to reach out to me.  Follow the outline, but make this _your_ project."
   ]
  },
  {
   "cell_type": "markdown",
   "metadata": {},
   "source": [
    "### `items.csv`"
   ]
  },
  {
   "cell_type": "markdown",
   "metadata": {},
   "source": [
    "The first data set you have available is a table of soft drink products with various data.  **Produce a brief report of the field names and associated column statistics for the table.**  Consider producing scatter plots of certain values, such as the bottle volume.\n",
    "\n",
    "Each time you load a data table, you should carefully consider which fields should be numeric and which text.  For instance, a name is clearly text while a volume is numeric.  A product ID even if all numeric should be text, though.  (Can you think of why?)"
   ]
  },
  {
   "cell_type": "code",
   "execution_count": null,
   "metadata": {},
   "outputs": [],
   "source": [
    "# Question: For instance, a name is clearly text while a volume is numeric.\n",
    "# A product ID even if all numeric should be text, though. (Can you think of why?)\n",
    "\n",
    "# Answer: Because ID numbers aren't going to be used for calculations so it should be stored as a string."
   ]
  },
  {
   "cell_type": "code",
   "execution_count": 13,
   "metadata": {},
   "outputs": [
    {
     "name": "stdout",
     "output_type": "stream",
     "text": [
      "                   Item_Description         Category  Pack  Bottle_Volume_ml  \\\n",
      "Item_id                                                                        \n",
      "101         Kanna's Grapefruit Soda  Grapefruit Soda     6             750.0   \n",
      "102          Alphonse's Fruit Punch      Fruit Punch     6             800.0   \n",
      "103        Yummy Surstromming Juice              NaN     1             750.0   \n",
      "107       Tamaki's Watermelon Cream       Cream Soda     6             750.0   \n",
      "108         Kaori's Grapefruit Soda  Grapefruit Soda     6             750.0   \n",
      "...                             ...              ...   ...               ...   \n",
      "994644         Saitama's Cream Soda       Cream Soda     6             750.0   \n",
      "994786   Kenji's Vanilla Cream Soda       Cream Soda     6             750.0   \n",
      "994972   Tanya's Vanilla Cream Soda       Cream Soda     6             750.0   \n",
      "995606          Sakura's Cream Soda       Cream Soda    12             750.0   \n",
      "996026         Tetsuya's Cream Soda       Cream Soda     6             750.0   \n",
      "\n",
      "         Bottle_Cost  Bottle_Retail_Price  \n",
      "Item_id                                    \n",
      "101             4.32                 6.48  \n",
      "102             3.33                 5.00  \n",
      "103            10.30                20.10  \n",
      "107             4.44                 6.66  \n",
      "108             3.12                 4.68  \n",
      "...              ...                  ...  \n",
      "994644         12.60                18.90  \n",
      "994786          4.27                 6.41  \n",
      "994972          5.87                 8.81  \n",
      "995606          3.72                 5.58  \n",
      "996026          6.81                10.22  \n",
      "\n",
      "[4166 rows x 6 columns]\n"
     ]
    }
   ],
   "source": [
    "# Import pandas library and renamed it as pd\n",
    "import pandas as pd\n",
    "\n",
    "# Reading in item.csv file and indexing it by the Item_id column and saving it as a variable named data\n",
    "data = pd.read_csv('data_code/item.csv', index_col='Item_id')\n",
    "# Print contents of data variable\n",
    "print(data)"
   ]
  },
  {
   "cell_type": "code",
   "execution_count": 3,
   "metadata": {},
   "outputs": [
    {
     "name": "stdout",
     "output_type": "stream",
     "text": [
      "Index(['Item_Description', 'Category', 'Pack', 'Bottle_Volume_ml',\n",
      "       'Bottle_Cost', 'Bottle_Retail_Price'],\n",
      "      dtype='object')\n"
     ]
    }
   ],
   "source": [
    "# Shows the names of all of the columns in the item.csv data set\n",
    "print(data.columns)"
   ]
  },
  {
   "cell_type": "code",
   "execution_count": 4,
   "metadata": {},
   "outputs": [
    {
     "name": "stdout",
     "output_type": "stream",
     "text": [
      "              Pack  Bottle_Volume_ml  Bottle_Cost  Bottle_Retail_Price\n",
      "count  4166.000000       4166.000000  4166.000000          4163.000000\n",
      "mean     11.260442        936.963274     3.648721             5.485763\n",
      "std      11.913901       6244.415564     9.348512            14.027764\n",
      "min       1.000000          0.000000     1.500000             2.450000\n",
      "25%       6.000000        750.000000     2.360000             3.580000\n",
      "50%      12.000000        750.000000     2.860000             4.300000\n",
      "75%      12.000000        750.000000     3.610000             5.420000\n",
      "max     336.000000     378000.000000   500.000000           750.000000\n"
     ]
    }
   ],
   "source": [
    "# Print data variable using the describe function to get summary statistics about data.\n",
    "print(data.describe())"
   ]
  },
  {
   "cell_type": "code",
   "execution_count": 16,
   "metadata": {},
   "outputs": [
    {
     "data": {
      "text/plain": [
       "<AxesSubplot:xlabel='min', ylabel='max'>"
      ]
     },
     "execution_count": 16,
     "metadata": {},
     "output_type": "execute_result"
    },
    {
     "data": {
      "image/png": "[encoded data removed]",
      "text/plain": [
       "<Figure size 432x288 with 1 Axes>"
      ]
     },
     "metadata": {
      "needs_background": "light"
     },
     "output_type": "display_data"
    }
   ],
   "source": [
    "# Plotting\n",
    "# Tried making a scatter plot based on each Item Description's bottle volume but was not successful\n",
    "\n",
    "# Importing matplotlib library and the pyplot sub-library and renaming it as plt\n",
    "%matplotlib inline\n",
    "import matplotlib.pyplot as plt\n",
    "# using example code from Python lesson to plot the min and max of the data.describe results\n",
    "data.describe().T.plot(kind='scatter', x='min', y='max')"
   ]
  },
  {
   "cell_type": "markdown",
   "metadata": {},
   "source": [
    "### `invoices.csv`"
   ]
  },
  {
   "cell_type": "markdown",
   "metadata": {},
   "source": [
    "The invoice data set is quite large, too large in fact to be loaded by a conventional spreadsheet program.  Thus you will need to use Python or SQL to manage the data set.  You will not need to create additional fields (columns) in the table, but you will need to be able to merge data tables.\n",
    "\n",
    "As before, **produce a report containing the field names and column statistics for the table.**\n",
    "\n",
    "If using Python, Pandas should be able to readily handle the import.\n",
    "\n",
    "If using SQL, you can [import the CSV file directly](https://www.sqlite.org/cli.html#importing_csv_files)."
   ]
  },
  {
   "cell_type": "code",
   "execution_count": null,
   "metadata": {},
   "outputs": [],
   "source": [
    "# Were we supposed to merge the item.csv and invoices.csv together? Not sure how to join tables with Python."
   ]
  },
  {
   "cell_type": "code",
   "execution_count": 3,
   "metadata": {},
   "outputs": [
    {
     "name": "stdout",
     "output_type": "stream",
     "text": [
      "                       Date  Item_id  Vendor_id          Vendor_Name  \\\n",
      "Invoice_id                                                             \n",
      "INV-00013400001  2016-08-29    35918        297        Katou Company   \n",
      "INV-00013400002  2016-08-29    23828        297        Katou Company   \n",
      "INV-00013400003  2016-08-29    36908        300    Katsuragi Company   \n",
      "INV-00013400004  2016-08-29    34359         35          Archer Inc.   \n",
      "INV-00013400005  2016-08-29    36903        300    Katsuragi Company   \n",
      "...                     ...      ...        ...                  ...   \n",
      "S34122500013     2016-08-25    68031        260      Inuyasha Brands   \n",
      "S34122500014     2016-08-25    75212        322        Koizumi Group   \n",
      "S34122500015     2016-08-25    75224        322        Koizumi Group   \n",
      "S34122500016     2016-08-25    36901        300    Katsuragi Company   \n",
      "S34122500017     2016-08-25    86692         85  Ayuzawa Corporation   \n",
      "\n",
      "                 Store_id                  Store_Name                 Address  \\\n",
      "Invoice_id                                                                      \n",
      "INV-00013400001      3882  Kwik Shop #579 / Davenport       2805 TELEGRAPH RD   \n",
      "INV-00013400002      3882  Kwik Shop #579 / Davenport       2805 TELEGRAPH RD   \n",
      "INV-00013400003      3882  Kwik Shop #579 / Davenport       2805 TELEGRAPH RD   \n",
      "INV-00013400004      3882  Kwik Shop #579 / Davenport       2805 TELEGRAPH RD   \n",
      "INV-00013400005      3882  Kwik Shop #579 / Davenport       2805 TELEGRAPH RD   \n",
      "...                   ...                         ...                     ...   \n",
      "S34122500013         4694   Rina Mart LLC / Davenport  3815, WEST KIMBERLY RD   \n",
      "S34122500014         4694   Rina Mart LLC / Davenport  3815, WEST KIMBERLY RD   \n",
      "S34122500015         4694   Rina Mart LLC / Davenport  3815, WEST KIMBERLY RD   \n",
      "S34122500016         4694   Rina Mart LLC / Davenport  3815, WEST KIMBERLY RD   \n",
      "S34122500017         4694   Rina Mart LLC / Davenport  3815, WEST KIMBERLY RD   \n",
      "\n",
      "                 City_Name  Zip_Code  County_id County_Name  Bottles_Sold  \n",
      "Invoice_id                                                                 \n",
      "INV-00013400001  DAVENPORT     52802         82       Scott             1  \n",
      "INV-00013400002  DAVENPORT     52802         82       Scott             1  \n",
      "INV-00013400003  DAVENPORT     52802         82       Scott             1  \n",
      "INV-00013400004  DAVENPORT     52802         82       Scott             8  \n",
      "INV-00013400005  DAVENPORT     52802         82       Scott             1  \n",
      "...                    ...       ...        ...         ...           ...  \n",
      "S34122500013     DAVENPORT     52806         82       Scott             1  \n",
      "S34122500014     DAVENPORT     52806         82       Scott             6  \n",
      "S34122500015     DAVENPORT     52806         82       Scott             6  \n",
      "S34122500016     DAVENPORT     52806         82       Scott             6  \n",
      "S34122500017     DAVENPORT     52806         82       Scott            12  \n",
      "\n",
      "[930508 rows x 12 columns]\n"
     ]
    }
   ],
   "source": [
    "# Import pandas library and renamed it as pd\n",
    "import pandas as pd\n",
    "\n",
    "# Reading in invoice.csv file and indexing it by the Invoice_id column and saving it as a variable named data\n",
    "data = pd.read_csv('data_code/invoice.csv', index_col='Invoice_id')\n",
    "# Print contents of data variable\n",
    "print(data)"
   ]
  },
  {
   "cell_type": "code",
   "execution_count": 7,
   "metadata": {},
   "outputs": [
    {
     "name": "stdout",
     "output_type": "stream",
     "text": [
      "Index(['Date', 'Item_id', 'Vendor_id', 'Vendor_Name', 'Store_id', 'Store_Name',\n",
      "       'Address', 'City_Name', 'Zip_Code', 'County_id', 'County_Name',\n",
      "       'Bottles_Sold'],\n",
      "      dtype='object')\n"
     ]
    }
   ],
   "source": [
    "# Shows the names of all of the columns in the invoice.csv data set\n",
    "print(data.columns)"
   ]
  },
  {
   "cell_type": "code",
   "execution_count": 8,
   "metadata": {},
   "outputs": [
    {
     "name": "stdout",
     "output_type": "stream",
     "text": [
      "             Item_id      Vendor_id       Store_id       Zip_Code  \\\n",
      "count  930508.000000  930508.000000  930508.000000  930508.000000   \n",
      "mean    46100.761759     257.759544    3475.512880   52132.305486   \n",
      "std     42887.410193     137.428615     889.217119     823.575059   \n",
      "min       101.000000      10.000000    2554.000000   51101.000000   \n",
      "25%     29993.000000     115.000000    2623.000000   51106.000000   \n",
      "50%     41019.000000     260.000000    3447.000000   52803.000000   \n",
      "75%     64571.000000     380.000000    4076.000000   52806.000000   \n",
      "max    996026.000000     987.000000    9922.000000   52807.000000   \n",
      "\n",
      "           County_id   Bottles_Sold  \n",
      "count  930508.000000  930508.000000  \n",
      "mean       87.817790       9.875647  \n",
      "std         7.308914      22.489171  \n",
      "min        82.000000       0.000000  \n",
      "25%        82.000000       2.000000  \n",
      "50%        82.000000       6.000000  \n",
      "75%        97.000000      12.000000  \n",
      "max        97.000000    2160.000000  \n"
     ]
    }
   ],
   "source": [
    "# Print data variable using the describe function to get summary statistics about data.\n",
    "print(data.describe())"
   ]
  },
  {
   "cell_type": "code",
   "execution_count": 5,
   "metadata": {},
   "outputs": [
    {
     "data": {
      "text/plain": [
       "<AxesSubplot:xlabel='min', ylabel='max'>"
      ]
     },
     "execution_count": 5,
     "metadata": {},
     "output_type": "execute_result"
    },
    {
     "data": {
      "image/png": "[encoded data removed]",
      "text/plain": [
       "<Figure size 432x288 with 1 Axes>"
      ]
     },
     "metadata": {
      "needs_background": "light"
     },
     "output_type": "display_data"
    }
   ],
   "source": [
    "# Plotting data in a scatter plot\n",
    "\n",
    "# Importing matplotlib library and the pyplot sub-library and renaming it as plt\n",
    "%matplotlib inline\n",
    "import matplotlib.pyplot as plt\n",
    "\n",
    "# using example code from Python lesson to plot the min and max of the data.describe results\n",
    "data.describe().T.plot(kind='scatter', x='min', y='max')"
   ]
  },
  {
   "cell_type": "markdown",
   "metadata": {},
   "source": [
    "### Reviews"
   ]
  },
  {
   "cell_type": "markdown",
   "metadata": {},
   "source": [
    "The customer reviews have been stored in separate files with the format\n",
    "\n",
    "```\n",
    "Customer ID: 6880\n",
    "Invoice ID: INV-01352200015\n",
    "Product Rating: 2/5\n",
    "```\n",
    "\n",
    "As there are several thousand of these reviews, you should aggregate them into a single data table for ease of use.  Bash or Python should be preferred; if working in SQL then use Python and the PySQL interface to produce the SQL database.\n",
    "\n",
    "As there are a lot of these to load, I suggest that you load only a small subset, a hundred or a thousand, first, and get things working before you load the entire data set.\n",
    "\n",
    "**Produce a short report about the aggregated review database.**"
   ]
  },
  {
   "cell_type": "code",
   "execution_count": null,
   "metadata": {},
   "outputs": [],
   "source": [
    "# Aggregating Reviews.dat files\n",
    "# Had trouble creating a nice table with columns based on the different data types\n",
    "# Do we need to extract the data from each line? Not sure how to go about that\n",
    "# Attempted concat, append, and merge and nothing worked\n",
    "# Also wasn't sure how to \"load only a small subset\" so this was taxing on our computers\n",
    "\n",
    "import glob\n",
    "import pandas as pd\n",
    "\n",
    "for filename in glob.glob('reviews/*.dat'):\n",
    "    data = pd.read_csv(filename)\n",
    "    print(data)"
   ]
  },
  {
   "cell_type": "markdown",
   "metadata": {},
   "source": [
    "### Merging the Database"
   ]
  },
  {
   "cell_type": "markdown",
   "metadata": {},
   "source": [
    "Once the data have been loaded into three separate tables, which I will here call `invoices`, `items`, and `reviews`, **you should merge them into each other.**  Your two master records are the invoices, which should never change in number, and the reviews, which are similarly fixed.  The item data can be combined with those.\n",
    "\n",
    "If using Pandas, you should use a `left` join on `invoices` with `items`.\n",
    "\n",
    "If using SQL, you should left-join `invoices` to `items`.\n",
    "\n",
    "This should yield a merged database, `invoices_all`, which contains the invoices as records and includes information about each item sold.\n",
    "\n",
    "Do the same for the reviews with the item data in `reviews_all`, except that you should `left` join on `reviews` with `invoices`, as not all invoice purchases generated reviews.  You should verify that you can obtain item IDs and rating numbers from the same database, as that will be necessary for the recommendation engine step below.\n",
    "\n",
    "_(If you need help with this step, reach out to me.  That offer stands for all of this, but this step is perhaps more complicated than some others.)_"
   ]
  },
  {
   "cell_type": "code",
   "execution_count": 7,
   "metadata": {},
   "outputs": [
    {
     "data": {
      "text/html": [
       "<div>\n",
       "<style scoped>\n",
       "    .dataframe tbody tr th:only-of-type {\n",
       "        vertical-align: middle;\n",
       "    }\n",
       "\n",
       "    .dataframe tbody tr th {\n",
       "        vertical-align: top;\n",
       "    }\n",
       "\n",
       "    .dataframe thead th {\n",
       "        text-align: right;\n",
       "    }\n",
       "</style>\n",
       "<table border=\"1\" class=\"dataframe\">\n",
       "  <thead>\n",
       "    <tr style=\"text-align: right;\">\n",
       "      <th></th>\n",
       "      <th>Invoice_id</th>\n",
       "      <th>Date</th>\n",
       "      <th>Item_id</th>\n",
       "      <th>Vendor_id</th>\n",
       "      <th>Vendor_Name</th>\n",
       "      <th>Store_id</th>\n",
       "      <th>Store_Name</th>\n",
       "      <th>Address</th>\n",
       "      <th>City_Name</th>\n",
       "      <th>Zip_Code</th>\n",
       "      <th>County_id</th>\n",
       "      <th>County_Name</th>\n",
       "      <th>Bottles_Sold</th>\n",
       "      <th>Item_Description</th>\n",
       "      <th>Category</th>\n",
       "      <th>Pack</th>\n",
       "      <th>Bottle_Volume_ml</th>\n",
       "      <th>Bottle_Cost</th>\n",
       "      <th>Bottle_Retail_Price</th>\n",
       "    </tr>\n",
       "  </thead>\n",
       "  <tbody>\n",
       "    <tr>\n",
       "      <th>0</th>\n",
       "      <td>INV-00013400001</td>\n",
       "      <td>2016-08-29</td>\n",
       "      <td>35918</td>\n",
       "      <td>297</td>\n",
       "      <td>Katou Company</td>\n",
       "      <td>3882</td>\n",
       "      <td>Kwik Shop #579 / Davenport</td>\n",
       "      <td>2805 TELEGRAPH RD</td>\n",
       "      <td>DAVENPORT</td>\n",
       "      <td>52802</td>\n",
       "      <td>82</td>\n",
       "      <td>Scott</td>\n",
       "      <td>1</td>\n",
       "      <td>Haruko's Family Secret Black Cherry</td>\n",
       "      <td>Cherry Soda</td>\n",
       "      <td>6</td>\n",
       "      <td>1750.0</td>\n",
       "      <td>2.51</td>\n",
       "      <td>3.76</td>\n",
       "    </tr>\n",
       "    <tr>\n",
       "      <th>1</th>\n",
       "      <td>INV-00013400002</td>\n",
       "      <td>2016-08-29</td>\n",
       "      <td>23828</td>\n",
       "      <td>297</td>\n",
       "      <td>Katou Company</td>\n",
       "      <td>3882</td>\n",
       "      <td>Kwik Shop #579 / Davenport</td>\n",
       "      <td>2805 TELEGRAPH RD</td>\n",
       "      <td>DAVENPORT</td>\n",
       "      <td>52802</td>\n",
       "      <td>82</td>\n",
       "      <td>Scott</td>\n",
       "      <td>1</td>\n",
       "      <td>Archer's Cream Soda</td>\n",
       "      <td>Cream Soda</td>\n",
       "      <td>6</td>\n",
       "      <td>1750.0</td>\n",
       "      <td>2.54</td>\n",
       "      <td>3.81</td>\n",
       "    </tr>\n",
       "    <tr>\n",
       "      <th>2</th>\n",
       "      <td>INV-00013400003</td>\n",
       "      <td>2016-08-29</td>\n",
       "      <td>36908</td>\n",
       "      <td>300</td>\n",
       "      <td>Katsuragi Company</td>\n",
       "      <td>3882</td>\n",
       "      <td>Kwik Shop #579 / Davenport</td>\n",
       "      <td>2805 TELEGRAPH RD</td>\n",
       "      <td>DAVENPORT</td>\n",
       "      <td>52802</td>\n",
       "      <td>82</td>\n",
       "      <td>Scott</td>\n",
       "      <td>1</td>\n",
       "      <td>Joutarou's Red Pop</td>\n",
       "      <td>Cherry Soda</td>\n",
       "      <td>6</td>\n",
       "      <td>1750.0</td>\n",
       "      <td>2.55</td>\n",
       "      <td>3.83</td>\n",
       "    </tr>\n",
       "    <tr>\n",
       "      <th>3</th>\n",
       "      <td>INV-00013400004</td>\n",
       "      <td>2016-08-29</td>\n",
       "      <td>34359</td>\n",
       "      <td>35</td>\n",
       "      <td>Archer Inc.</td>\n",
       "      <td>3882</td>\n",
       "      <td>Kwik Shop #579 / Davenport</td>\n",
       "      <td>2805 TELEGRAPH RD</td>\n",
       "      <td>DAVENPORT</td>\n",
       "      <td>52802</td>\n",
       "      <td>82</td>\n",
       "      <td>Scott</td>\n",
       "      <td>8</td>\n",
       "      <td>Roy's Wild Cherry</td>\n",
       "      <td>Cherry Soda</td>\n",
       "      <td>12</td>\n",
       "      <td>200.0</td>\n",
       "      <td>2.18</td>\n",
       "      <td>3.27</td>\n",
       "    </tr>\n",
       "    <tr>\n",
       "      <th>4</th>\n",
       "      <td>INV-00013400005</td>\n",
       "      <td>2016-08-29</td>\n",
       "      <td>36903</td>\n",
       "      <td>300</td>\n",
       "      <td>Katsuragi Company</td>\n",
       "      <td>3882</td>\n",
       "      <td>Kwik Shop #579 / Davenport</td>\n",
       "      <td>2805 TELEGRAPH RD</td>\n",
       "      <td>DAVENPORT</td>\n",
       "      <td>52802</td>\n",
       "      <td>82</td>\n",
       "      <td>Scott</td>\n",
       "      <td>1</td>\n",
       "      <td>Hisoka's Wild Cherry</td>\n",
       "      <td>Cherry Soda</td>\n",
       "      <td>48</td>\n",
       "      <td>200.0</td>\n",
       "      <td>1.66</td>\n",
       "      <td>2.49</td>\n",
       "    </tr>\n",
       "    <tr>\n",
       "      <th>...</th>\n",
       "      <td>...</td>\n",
       "      <td>...</td>\n",
       "      <td>...</td>\n",
       "      <td>...</td>\n",
       "      <td>...</td>\n",
       "      <td>...</td>\n",
       "      <td>...</td>\n",
       "      <td>...</td>\n",
       "      <td>...</td>\n",
       "      <td>...</td>\n",
       "      <td>...</td>\n",
       "      <td>...</td>\n",
       "      <td>...</td>\n",
       "      <td>...</td>\n",
       "      <td>...</td>\n",
       "      <td>...</td>\n",
       "      <td>...</td>\n",
       "      <td>...</td>\n",
       "      <td>...</td>\n",
       "    </tr>\n",
       "    <tr>\n",
       "      <th>930503</th>\n",
       "      <td>S34122500013</td>\n",
       "      <td>2016-08-25</td>\n",
       "      <td>68031</td>\n",
       "      <td>260</td>\n",
       "      <td>Inuyasha Brands</td>\n",
       "      <td>4694</td>\n",
       "      <td>Rina Mart LLC / Davenport</td>\n",
       "      <td>3815, WEST KIMBERLY RD</td>\n",
       "      <td>DAVENPORT</td>\n",
       "      <td>52806</td>\n",
       "      <td>82</td>\n",
       "      <td>Scott</td>\n",
       "      <td>1</td>\n",
       "      <td>Deishuu's Craft Root Beer</td>\n",
       "      <td>Root Beer</td>\n",
       "      <td>4</td>\n",
       "      <td>1000.0</td>\n",
       "      <td>5.06</td>\n",
       "      <td>7.59</td>\n",
       "    </tr>\n",
       "    <tr>\n",
       "      <th>930504</th>\n",
       "      <td>S34122500014</td>\n",
       "      <td>2016-08-25</td>\n",
       "      <td>75212</td>\n",
       "      <td>322</td>\n",
       "      <td>Koizumi Group</td>\n",
       "      <td>4694</td>\n",
       "      <td>Rina Mart LLC / Davenport</td>\n",
       "      <td>3815, WEST KIMBERLY RD</td>\n",
       "      <td>DAVENPORT</td>\n",
       "      <td>52806</td>\n",
       "      <td>82</td>\n",
       "      <td>Scott</td>\n",
       "      <td>6</td>\n",
       "      <td>Conan's Plum and Ginger</td>\n",
       "      <td>Ginger Ale</td>\n",
       "      <td>6</td>\n",
       "      <td>500.0</td>\n",
       "      <td>2.20</td>\n",
       "      <td>3.30</td>\n",
       "    </tr>\n",
       "    <tr>\n",
       "      <th>930505</th>\n",
       "      <td>S34122500015</td>\n",
       "      <td>2016-08-25</td>\n",
       "      <td>75224</td>\n",
       "      <td>322</td>\n",
       "      <td>Koizumi Group</td>\n",
       "      <td>4694</td>\n",
       "      <td>Rina Mart LLC / Davenport</td>\n",
       "      <td>3815, WEST KIMBERLY RD</td>\n",
       "      <td>DAVENPORT</td>\n",
       "      <td>52806</td>\n",
       "      <td>82</td>\n",
       "      <td>Scott</td>\n",
       "      <td>6</td>\n",
       "      <td>Daiki's Plum and Ginger</td>\n",
       "      <td>Ginger Ale</td>\n",
       "      <td>6</td>\n",
       "      <td>500.0</td>\n",
       "      <td>2.18</td>\n",
       "      <td>3.27</td>\n",
       "    </tr>\n",
       "    <tr>\n",
       "      <th>930506</th>\n",
       "      <td>S34122500016</td>\n",
       "      <td>2016-08-25</td>\n",
       "      <td>36901</td>\n",
       "      <td>300</td>\n",
       "      <td>Katsuragi Company</td>\n",
       "      <td>4694</td>\n",
       "      <td>Rina Mart LLC / Davenport</td>\n",
       "      <td>3815, WEST KIMBERLY RD</td>\n",
       "      <td>DAVENPORT</td>\n",
       "      <td>52806</td>\n",
       "      <td>82</td>\n",
       "      <td>Scott</td>\n",
       "      <td>6</td>\n",
       "      <td>Hisoka's Red Pop</td>\n",
       "      <td>Cherry Soda</td>\n",
       "      <td>6</td>\n",
       "      <td>500.0</td>\n",
       "      <td>2.16</td>\n",
       "      <td>3.24</td>\n",
       "    </tr>\n",
       "    <tr>\n",
       "      <th>930507</th>\n",
       "      <td>S34122500017</td>\n",
       "      <td>2016-08-25</td>\n",
       "      <td>86692</td>\n",
       "      <td>85</td>\n",
       "      <td>Ayuzawa Corporation</td>\n",
       "      <td>4694</td>\n",
       "      <td>Rina Mart LLC / Davenport</td>\n",
       "      <td>3815, WEST KIMBERLY RD</td>\n",
       "      <td>DAVENPORT</td>\n",
       "      <td>52806</td>\n",
       "      <td>82</td>\n",
       "      <td>Scott</td>\n",
       "      <td>12</td>\n",
       "      <td>Kosaki's Watermelon Cream</td>\n",
       "      <td>Cream Soda</td>\n",
       "      <td>12</td>\n",
       "      <td>750.0</td>\n",
       "      <td>3.62</td>\n",
       "      <td>5.43</td>\n",
       "    </tr>\n",
       "  </tbody>\n",
       "</table>\n",
       "<p>930508 rows × 19 columns</p>\n",
       "</div>"
      ],
      "text/plain": [
       "             Invoice_id        Date  Item_id  Vendor_id          Vendor_Name  \\\n",
       "0       INV-00013400001  2016-08-29    35918        297        Katou Company   \n",
       "1       INV-00013400002  2016-08-29    23828        297        Katou Company   \n",
       "2       INV-00013400003  2016-08-29    36908        300    Katsuragi Company   \n",
       "3       INV-00013400004  2016-08-29    34359         35          Archer Inc.   \n",
       "4       INV-00013400005  2016-08-29    36903        300    Katsuragi Company   \n",
       "...                 ...         ...      ...        ...                  ...   \n",
       "930503     S34122500013  2016-08-25    68031        260      Inuyasha Brands   \n",
       "930504     S34122500014  2016-08-25    75212        322        Koizumi Group   \n",
       "930505     S34122500015  2016-08-25    75224        322        Koizumi Group   \n",
       "930506     S34122500016  2016-08-25    36901        300    Katsuragi Company   \n",
       "930507     S34122500017  2016-08-25    86692         85  Ayuzawa Corporation   \n",
       "\n",
       "        Store_id                  Store_Name                 Address  \\\n",
       "0           3882  Kwik Shop #579 / Davenport       2805 TELEGRAPH RD   \n",
       "1           3882  Kwik Shop #579 / Davenport       2805 TELEGRAPH RD   \n",
       "2           3882  Kwik Shop #579 / Davenport       2805 TELEGRAPH RD   \n",
       "3           3882  Kwik Shop #579 / Davenport       2805 TELEGRAPH RD   \n",
       "4           3882  Kwik Shop #579 / Davenport       2805 TELEGRAPH RD   \n",
       "...          ...                         ...                     ...   \n",
       "930503      4694   Rina Mart LLC / Davenport  3815, WEST KIMBERLY RD   \n",
       "930504      4694   Rina Mart LLC / Davenport  3815, WEST KIMBERLY RD   \n",
       "930505      4694   Rina Mart LLC / Davenport  3815, WEST KIMBERLY RD   \n",
       "930506      4694   Rina Mart LLC / Davenport  3815, WEST KIMBERLY RD   \n",
       "930507      4694   Rina Mart LLC / Davenport  3815, WEST KIMBERLY RD   \n",
       "\n",
       "        City_Name  Zip_Code  County_id County_Name  Bottles_Sold  \\\n",
       "0       DAVENPORT     52802         82       Scott             1   \n",
       "1       DAVENPORT     52802         82       Scott             1   \n",
       "2       DAVENPORT     52802         82       Scott             1   \n",
       "3       DAVENPORT     52802         82       Scott             8   \n",
       "4       DAVENPORT     52802         82       Scott             1   \n",
       "...           ...       ...        ...         ...           ...   \n",
       "930503  DAVENPORT     52806         82       Scott             1   \n",
       "930504  DAVENPORT     52806         82       Scott             6   \n",
       "930505  DAVENPORT     52806         82       Scott             6   \n",
       "930506  DAVENPORT     52806         82       Scott             6   \n",
       "930507  DAVENPORT     52806         82       Scott            12   \n",
       "\n",
       "                           Item_Description     Category  Pack  \\\n",
       "0       Haruko's Family Secret Black Cherry  Cherry Soda     6   \n",
       "1                       Archer's Cream Soda   Cream Soda     6   \n",
       "2                        Joutarou's Red Pop  Cherry Soda     6   \n",
       "3                         Roy's Wild Cherry  Cherry Soda    12   \n",
       "4                      Hisoka's Wild Cherry  Cherry Soda    48   \n",
       "...                                     ...          ...   ...   \n",
       "930503            Deishuu's Craft Root Beer    Root Beer     4   \n",
       "930504              Conan's Plum and Ginger   Ginger Ale     6   \n",
       "930505              Daiki's Plum and Ginger   Ginger Ale     6   \n",
       "930506                     Hisoka's Red Pop  Cherry Soda     6   \n",
       "930507            Kosaki's Watermelon Cream   Cream Soda    12   \n",
       "\n",
       "        Bottle_Volume_ml  Bottle_Cost  Bottle_Retail_Price  \n",
       "0                 1750.0         2.51                 3.76  \n",
       "1                 1750.0         2.54                 3.81  \n",
       "2                 1750.0         2.55                 3.83  \n",
       "3                  200.0         2.18                 3.27  \n",
       "4                  200.0         1.66                 2.49  \n",
       "...                  ...          ...                  ...  \n",
       "930503            1000.0         5.06                 7.59  \n",
       "930504             500.0         2.20                 3.30  \n",
       "930505             500.0         2.18                 3.27  \n",
       "930506             500.0         2.16                 3.24  \n",
       "930507             750.0         3.62                 5.43  \n",
       "\n",
       "[930508 rows x 19 columns]"
      ]
     },
     "execution_count": 7,
     "metadata": {},
     "output_type": "execute_result"
    }
   ],
   "source": [
    "import pandas as pd\n",
    "\n",
    "invoices = pd.read_csv('data_code/invoice.csv')\n",
    "items = pd.read_csv('data_code/item.csv')\n",
    "\n",
    "invoices_all = pd.merge(invoices, items, on='Item_id', how='left')\n",
    "\n",
    "invoices_all"
   ]
  },
  {
   "cell_type": "markdown",
   "metadata": {},
   "source": [
    "## Statistical Analysis of the Invoices"
   ]
  },
  {
   "cell_type": "markdown",
   "metadata": {},
   "source": [
    "Your manager wants you to take a look at the invoices and see if there's anything useful, salesworthy, or _fishy_ about them.  Now that you have a data table containing the invoices and item data, you are in a good situation to statistically analyze the values involved.\n",
    "\n",
    "First off, **decide which fields should be examined statistically.**  Does it make sense to correlate against, say, bottle volume?  Number of items in a pack?  Price?  Justify your decisions.\n",
    "\n",
    "Next, **carry out a basic statistical analysis looking for anomalies and outliers.**  These are loosely defined, but if you don't have a background in statistics, let's say that it's a value that lies at least four standard deviations from the mean, which means it should occur less than 6 in 100,000 times in a data set (0.006% likelihood).\n",
    "\n",
    "This step is well-suited to Python, in particular the [`scipy.stats` module](https://docs.scipy.org/doc/scipy/reference/stats.html).  If your data tables are in SQL, load them into Python via the PySQL interface."
   ]
  },
  {
   "cell_type": "markdown",
   "metadata": {},
   "source": [
    "For instance, a Python-based $t$-test, looking at the likelihood of correlation, could be written as"
   ]
  },
  {
   "cell_type": "code",
   "execution_count": null,
   "metadata": {},
   "outputs": [],
   "source": [
    "df_cs = reviews_all[reviews_all['Category'] == 'Cream Soda']\n",
    "df_rb = reviews_all[reviews_all['Category'] == 'Root Beer']\n",
    "\n",
    "from scipy import stats\n",
    "stats.ttest_ind(df_cs['Rating'],df_rb['Rating'],equal_var=False)"
   ]
  },
  {
   "cell_type": "markdown",
   "metadata": {},
   "source": [
    "In the result, the `pvalue` parameter is lower than $p=0.05$ if there is statistically significant correlation, greater than 0.05 otherwise."
   ]
  },
  {
   "cell_type": "markdown",
   "metadata": {},
   "source": [
    "Besides a quick look at correlations across categories, you should look at the statistical range and any outliers.  For instance, to check for outliers in items sold, we can get the standard deviation and look for records beyond our threshold:"
   ]
  },
  {
   "cell_type": "code",
   "execution_count": null,
   "metadata": {},
   "outputs": [],
   "source": [
    "avg = invoices_all['Bottles_Sold'].mean()\n",
    "stdev = invoices_all['Bottles_Sold'].std()\n",
    "invoices_all[invoices_all['Bottles_Sold'] > avg+4*stdev]"
   ]
  },
  {
   "cell_type": "markdown",
   "metadata": {},
   "source": [
    "You should plot and observe if there are any clusters as well and what those may imply for the business perspective.\n",
    "\n",
    "Similarly, you should consider the review ratings and any correlations with particular products, product categories, or other features."
   ]
  },
  {
   "cell_type": "markdown",
   "metadata": {},
   "source": [
    "**Report on your findings:  any statistically significant correlations in ratings, in sales, etc., as well as any outliers in the data which seem suspicious to you and why.**  I don't presuppose anything about what may or may not be in these data.  If no one on your team knows much about statistics, then rely more on expanding the basic analyses I've sketched above."
   ]
  },
  {
   "cell_type": "markdown",
   "metadata": {},
   "source": [
    "## A Recommendation Engine"
   ]
  },
  {
   "cell_type": "markdown",
   "metadata": {},
   "source": [
    "Your business manager has suggested using the review ratings as a resource for a recommendation engine.  A recommendation engine takes a product and searches for things those who rated this product highly also liked.\n",
    "\n",
    "A colleague of yours produced a recommendation engine using the principles outlined in the Data Analytics section of this program.  **You should prepare the data to plug into the recommendation engine, run some examples, and produce a report on the behavior and suitability.**"
   ]
  },
  {
   "cell_type": "markdown",
   "metadata": {},
   "source": [
    "### `holden`"
   ]
  },
  {
   "cell_type": "markdown",
   "metadata": {},
   "source": [
    "The essence of a recommendation engine is that it take a particular exemplar and produce a short list of similar suggestions.  This may be done on one of several bases:\n",
    "\n",
    "1. Raw popularity.  Simply return similarly-rated items.  This is coarse but trivial.\n",
    "2. Content similarity.  Requires extensive metadata tagging.  Combines \n",
    "3. Collaborative filtering.  Based on who rates a product highly and what else they rate highly.  (This is our approach.)\n",
    "\n",
    "    We have customer rating data tied to invoices, and invoice data tied to soft drink data, so we are able to produce a recommendation engine which operates on the appropriate columns.\n",
    "\n",
    "The recommendation engine `holden` is written in Python and accepts fields of data to compare.  These may be NumPy arrays, Pandas Series (columns from dataframes), or extracted from SQL via PySQL.\n",
    "\n",
    "I have tried to make `holden` fairly robust, but it requires a few columns:  `'Customer_id'`, `'Rating'`, `'Item_id'`, and `'Item_Description'`."
   ]
  },
  {
   "cell_type": "code",
   "execution_count": null,
   "metadata": {},
   "outputs": [],
   "source": [
    "import holden\n",
    "\n",
    "rec = holden.holden()\n",
    "rec.initialize(all_df)"
   ]
  },
  {
   "cell_type": "code",
   "execution_count": null,
   "metadata": {},
   "outputs": [],
   "source": [
    "rec.match(\"Seira's Black Cherry\")"
   ]
  }
 ],
 "metadata": {
  "kernelspec": {
   "display_name": "Python 3",
   "language": "python",
   "name": "python3"
  },
  "language_info": {
   "codemirror_mode": {
    "name": "ipython",
    "version": 3
   },
   "file_extension": ".py",
   "mimetype": "text/x-python",
   "name": "python",
   "nbconvert_exporter": "python",
   "pygments_lexer": "ipython3",
   "version": "3.8.5"
  }
 },
 "nbformat": 4,
 "nbformat_minor": 4
}
