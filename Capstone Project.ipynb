{
 "cells": [
  {
   "cell_type": "markdown",
   "metadata": {},
   "source": [
    "# Capstone Project"
   ]
  },
  {
   "cell_type": "markdown",
   "metadata": {},
   "source": [
    "Learning Objectives:\n",
    "\n",
    "- Incorporate Illinois Reboot toolchain into a single nose-to-tail project."
   ]
  },
  {
   "cell_type": "markdown",
   "metadata": {},
   "source": [
    "## The Data Set"
   ]
  },
  {
   "cell_type": "markdown",
   "metadata": {},
   "source": [
    "You work for a regional soft drink distribution center that has access to invoice data from convenience stores (`invoices.csv`), product data (`items.csv`), and customer reviews (the files in `reviews/`).\n",
    "\n",
    "You would like to examine the data for a few features, then plug them into a recommendation engine to see if you can improve sales.\n",
    "\n",
    "For instance, each data set should be validated and the fields (columns), basic data statistics, and any outliers should be reported.  Then further analysis can take place.\n",
    "\n",
    "You may use Bash, Python (likely Pandas), SQL, and Git to complete this project.  I make some suggestions at various junctures to consider using particular tools, but feel free to solve the problem in any manner your team finds fitting.  _The entire team should read the entire project and discuss before making any decisions about platform._\n",
    "\n",
    "You should produce a final report which responds to all of the **bolded** questions and includes full code and an explanation of its use.  You should not use a spreadsheet tool to complete any part of this project even if tempted—in particular, the `invoices.csv` file is too large to load in Microsoft Excel.\n",
    "\n",
    "In general, feel free to reach out to me.  Follow the outline, but make this _your_ project."
   ]
  },
  {
   "cell_type": "markdown",
   "metadata": {},
   "source": [
    "### `items.csv`"
   ]
  },
  {
   "cell_type": "markdown",
   "metadata": {},
   "source": [
    "The first data set you have available is a table of soft drink products with various data.  **Produce a brief report of the field names and associated column statistics for the table.**  Consider producing scatter plots of certain values, such as the bottle volume.\n",
    "\n",
    "Each time you load a data table, you should carefully consider which fields should be numeric and which text.  For instance, a name is clearly text while a volume is numeric.  A product ID even if all numeric should be text, though.  (Can you think of why?)"
   ]
  },
  {
   "cell_type": "code",
   "execution_count": null,
   "metadata": {},
   "outputs": [],
   "source": [
    "# Question: For instance, a name is clearly text while a volume is numeric.\n",
    "# A product ID even if all numeric should be text, though. (Can you think of why?)\n",
    "\n",
    "# Answer: Because ID numbers aren't going to be used for calculations so it should be stored as a string."
   ]
  },
  {
   "cell_type": "code",
   "execution_count": 13,
   "metadata": {},
   "outputs": [
    {
     "name": "stdout",
     "output_type": "stream",
     "text": [
      "                   Item_Description         Category  Pack  Bottle_Volume_ml  \\\n",
      "Item_id                                                                        \n",
      "101         Kanna's Grapefruit Soda  Grapefruit Soda     6             750.0   \n",
      "102          Alphonse's Fruit Punch      Fruit Punch     6             800.0   \n",
      "103        Yummy Surstromming Juice              NaN     1             750.0   \n",
      "107       Tamaki's Watermelon Cream       Cream Soda     6             750.0   \n",
      "108         Kaori's Grapefruit Soda  Grapefruit Soda     6             750.0   \n",
      "...                             ...              ...   ...               ...   \n",
      "994644         Saitama's Cream Soda       Cream Soda     6             750.0   \n",
      "994786   Kenji's Vanilla Cream Soda       Cream Soda     6             750.0   \n",
      "994972   Tanya's Vanilla Cream Soda       Cream Soda     6             750.0   \n",
      "995606          Sakura's Cream Soda       Cream Soda    12             750.0   \n",
      "996026         Tetsuya's Cream Soda       Cream Soda     6             750.0   \n",
      "\n",
      "         Bottle_Cost  Bottle_Retail_Price  \n",
      "Item_id                                    \n",
      "101             4.32                 6.48  \n",
      "102             3.33                 5.00  \n",
      "103            10.30                20.10  \n",
      "107             4.44                 6.66  \n",
      "108             3.12                 4.68  \n",
      "...              ...                  ...  \n",
      "994644         12.60                18.90  \n",
      "994786          4.27                 6.41  \n",
      "994972          5.87                 8.81  \n",
      "995606          3.72                 5.58  \n",
      "996026          6.81                10.22  \n",
      "\n",
      "[4166 rows x 6 columns]\n"
     ]
    }
   ],
   "source": [
    "# Import pandas library and renamed it as pd\n",
    "import pandas as pd\n",
    "\n",
    "# Reading in item.csv file and indexing it by the Item_id column and saving it as a variable named data\n",
    "data = pd.read_csv('data_code/item.csv', index_col='Item_id')\n",
    "# Print contents of data variable\n",
    "print(data)"
   ]
  },
  {
   "cell_type": "code",
   "execution_count": 3,
   "metadata": {},
   "outputs": [
    {
     "name": "stdout",
     "output_type": "stream",
     "text": [
      "Index(['Item_Description', 'Category', 'Pack', 'Bottle_Volume_ml',\n",
      "       'Bottle_Cost', 'Bottle_Retail_Price'],\n",
      "      dtype='object')\n"
     ]
    }
   ],
   "source": [
    "# Shows the names of all of the columns in the item.csv data set\n",
    "print(data.columns)"
   ]
  },
  {
   "cell_type": "code",
   "execution_count": 4,
   "metadata": {},
   "outputs": [
    {
     "name": "stdout",
     "output_type": "stream",
     "text": [
      "              Pack  Bottle_Volume_ml  Bottle_Cost  Bottle_Retail_Price\n",
      "count  4166.000000       4166.000000  4166.000000          4163.000000\n",
      "mean     11.260442        936.963274     3.648721             5.485763\n",
      "std      11.913901       6244.415564     9.348512            14.027764\n",
      "min       1.000000          0.000000     1.500000             2.450000\n",
      "25%       6.000000        750.000000     2.360000             3.580000\n",
      "50%      12.000000        750.000000     2.860000             4.300000\n",
      "75%      12.000000        750.000000     3.610000             5.420000\n",
      "max     336.000000     378000.000000   500.000000           750.000000\n"
     ]
    }
   ],
   "source": [
    "# Print data variable using the describe function to get summary statistics about data.\n",
    "print(data.describe())"
   ]
  },
  {
   "cell_type": "code",
   "execution_count": 16,
   "metadata": {},
   "outputs": [
    {
     "data": {
      "text/plain": [
       "<AxesSubplot:xlabel='min', ylabel='max'>"
      ]
     },
     "execution_count": 16,
     "metadata": {},
     "output_type": "execute_result"
    },
    {
     "data": {
      "image/png": "[encoded data removed]",
      "text/plain": [
       "<Figure size 432x288 with 1 Axes>"
      ]
     },
     "metadata": {
      "needs_background": "light"
     },
     "output_type": "display_data"
    }
   ],
   "source": [
    "# Plotting\n",
    "# Tried making a scatter plot based on each Item Description's bottle volume but was not successful\n",
    "\n",
    "# Importing matplotlib library and the pyplot sub-library and renaming it as plt\n",
    "%matplotlib inline\n",
    "import matplotlib.pyplot as plt\n",
    "# using example code from Python lesson to plot the min and max of the data.describe results\n",
    "data.describe().T.plot(kind='scatter', x='min', y='max')"
   ]
  },
  {
   "cell_type": "markdown",
   "metadata": {},
   "source": [
    "### `invoices.csv`"
   ]
  },
  {
   "cell_type": "markdown",
   "metadata": {},
   "source": [
    "The invoice data set is quite large, too large in fact to be loaded by a conventional spreadsheet program.  Thus you will need to use Python or SQL to manage the data set.  You will not need to create additional fields (columns) in the table, but you will need to be able to merge data tables.\n",
    "\n",
    "As before, **produce a report containing the field names and column statistics for the table.**\n",
    "\n",
    "If using Python, Pandas should be able to readily handle the import.\n",
    "\n",
    "If using SQL, you can [import the CSV file directly](https://www.sqlite.org/cli.html#importing_csv_files)."
   ]
  },
  {
   "cell_type": "code",
   "execution_count": null,
   "metadata": {},
   "outputs": [],
   "source": [
    "# Were we supposed to merge the item.csv and invoices.csv together? Not sure how to join tables with Python."
   ]
  },
  {
   "cell_type": "code",
   "execution_count": 3,
   "metadata": {},
   "outputs": [
    {
     "name": "stdout",
     "output_type": "stream",
     "text": [
      "                       Date  Item_id  Vendor_id          Vendor_Name  \\\n",
      "Invoice_id                                                             \n",
      "INV-00013400001  2016-08-29    35918        297        Katou Company   \n",
      "INV-00013400002  2016-08-29    23828        297        Katou Company   \n",
      "INV-00013400003  2016-08-29    36908        300    Katsuragi Company   \n",
      "INV-00013400004  2016-08-29    34359         35          Archer Inc.   \n",
      "INV-00013400005  2016-08-29    36903        300    Katsuragi Company   \n",
      "...                     ...      ...        ...                  ...   \n",
      "S34122500013     2016-08-25    68031        260      Inuyasha Brands   \n",
      "S34122500014     2016-08-25    75212        322        Koizumi Group   \n",
      "S34122500015     2016-08-25    75224        322        Koizumi Group   \n",
      "S34122500016     2016-08-25    36901        300    Katsuragi Company   \n",
      "S34122500017     2016-08-25    86692         85  Ayuzawa Corporation   \n",
      "\n",
      "                 Store_id                  Store_Name                 Address  \\\n",
      "Invoice_id                                                                      \n",
      "INV-00013400001      3882  Kwik Shop #579 / Davenport       2805 TELEGRAPH RD   \n",
      "INV-00013400002      3882  Kwik Shop #579 / Davenport       2805 TELEGRAPH RD   \n",
      "INV-00013400003      3882  Kwik Shop #579 / Davenport       2805 TELEGRAPH RD   \n",
      "INV-00013400004      3882  Kwik Shop #579 / Davenport       2805 TELEGRAPH RD   \n",
      "INV-00013400005      3882  Kwik Shop #579 / Davenport       2805 TELEGRAPH RD   \n",
      "...                   ...                         ...                     ...   \n",
      "S34122500013         4694   Rina Mart LLC / Davenport  3815, WEST KIMBERLY RD   \n",
      "S34122500014         4694   Rina Mart LLC / Davenport  3815, WEST KIMBERLY RD   \n",
      "S34122500015         4694   Rina Mart LLC / Davenport  3815, WEST KIMBERLY RD   \n",
      "S34122500016         4694   Rina Mart LLC / Davenport  3815, WEST KIMBERLY RD   \n",
      "S34122500017         4694   Rina Mart LLC / Davenport  3815, WEST KIMBERLY RD   \n",
      "\n",
      "                 City_Name  Zip_Code  County_id County_Name  Bottles_Sold  \n",
      "Invoice_id                                                                 \n",
      "INV-00013400001  DAVENPORT     52802         82       Scott             1  \n",
      "INV-00013400002  DAVENPORT     52802         82       Scott             1  \n",
      "INV-00013400003  DAVENPORT     52802         82       Scott             1  \n",
      "INV-00013400004  DAVENPORT     52802         82       Scott             8  \n",
      "INV-00013400005  DAVENPORT     52802         82       Scott             1  \n",
      "...                    ...       ...        ...         ...           ...  \n",
      "S34122500013     DAVENPORT     52806         82       Scott             1  \n",
      "S34122500014     DAVENPORT     52806         82       Scott             6  \n",
      "S34122500015     DAVENPORT     52806         82       Scott             6  \n",
      "S34122500016     DAVENPORT     52806         82       Scott             6  \n",
      "S34122500017     DAVENPORT     52806         82       Scott            12  \n",
      "\n",
      "[930508 rows x 12 columns]\n"
     ]
    }
   ],
   "source": [
    "# Import pandas library and renamed it as pd\n",
    "import pandas as pd\n",
    "\n",
    "# Reading in invoice.csv file and indexing it by the Invoice_id column and saving it as a variable named data\n",
    "data = pd.read_csv('data_code/invoice.csv', index_col='Invoice_id')\n",
    "# Print contents of data variable\n",
    "print(data)"
   ]
  },
  {
   "cell_type": "code",
   "execution_count": 7,
   "metadata": {},
   "outputs": [
    {
     "name": "stdout",
     "output_type": "stream",
     "text": [
      "Index(['Date', 'Item_id', 'Vendor_id', 'Vendor_Name', 'Store_id', 'Store_Name',\n",
      "       'Address', 'City_Name', 'Zip_Code', 'County_id', 'County_Name',\n",
      "       'Bottles_Sold'],\n",
      "      dtype='object')\n"
     ]
    }
   ],
   "source": [
    "# Shows the names of all of the columns in the invoice.csv data set\n",
    "print(data.columns)"
   ]
  },
  {
   "cell_type": "code",
   "execution_count": 8,
   "metadata": {},
   "outputs": [
    {
     "name": "stdout",
     "output_type": "stream",
     "text": [
      "             Item_id      Vendor_id       Store_id       Zip_Code  \\\n",
      "count  930508.000000  930508.000000  930508.000000  930508.000000   \n",
      "mean    46100.761759     257.759544    3475.512880   52132.305486   \n",
      "std     42887.410193     137.428615     889.217119     823.575059   \n",
      "min       101.000000      10.000000    2554.000000   51101.000000   \n",
      "25%     29993.000000     115.000000    2623.000000   51106.000000   \n",
      "50%     41019.000000     260.000000    3447.000000   52803.000000   \n",
      "75%     64571.000000     380.000000    4076.000000   52806.000000   \n",
      "max    996026.000000     987.000000    9922.000000   52807.000000   \n",
      "\n",
      "           County_id   Bottles_Sold  \n",
      "count  930508.000000  930508.000000  \n",
      "mean       87.817790       9.875647  \n",
      "std         7.308914      22.489171  \n",
      "min        82.000000       0.000000  \n",
      "25%        82.000000       2.000000  \n",
      "50%        82.000000       6.000000  \n",
      "75%        97.000000      12.000000  \n",
      "max        97.000000    2160.000000  \n"
     ]
    }
   ],
   "source": [
    "# Print data variable using the describe function to get summary statistics about data.\n",
    "print(data.describe())"
   ]
  },
  {
   "cell_type": "code",
   "execution_count": 5,
   "metadata": {},
   "outputs": [
    {
     "data": {
      "text/plain": [
       "<AxesSubplot:xlabel='min', ylabel='max'>"
      ]
     },
     "execution_count": 5,
     "metadata": {},
     "output_type": "execute_result"
    },
    {
     "data": {
      "image/png": "[encoded data removed]",
      "text/plain": [
       "<Figure size 432x288 with 1 Axes>"
      ]
     },
     "metadata": {
      "needs_background": "light"
     },
     "output_type": "display_data"
    }
   ],
   "source": [
    "# Plotting data in a scatter plot\n",
    "\n",
    "# Importing matplotlib library and the pyplot sub-library and renaming it as plt\n",
    "%matplotlib inline\n",
    "import matplotlib.pyplot as plt\n",
    "\n",
    "# using example code from Python lesson to plot the min and max of the data.describe results\n",
    "data.describe().T.plot(kind='scatter', x='min', y='max')"
   ]
  },
  {
   "cell_type": "markdown",
   "metadata": {},
   "source": [
    "### Reviews"
   ]
  },
  {
   "cell_type": "markdown",
   "metadata": {},
   "source": [
    "The customer reviews have been stored in separate files with the format\n",
    "\n",
    "```\n",
    "Customer ID: 6880\n",
    "Invoice ID: INV-01352200015\n",
    "Product Rating: 2/5\n",
    "```\n",
    "\n",
    "As there are several thousand of these reviews, you should aggregate them into a single data table for ease of use.  Bash or Python should be preferred; if working in SQL then use Python and the PySQL interface to produce the SQL database.\n",
    "\n",
    "As there are a lot of these to load, I suggest that you load only a small subset, a hundred or a thousand, first, and get things working before you load the entire data set.\n",
    "\n",
    "**Produce a short report about the aggregated review database.**"
   ]
  },
  {
   "cell_type": "code",
   "execution_count": null,
   "metadata": {},
   "outputs": [],
   "source": [
    "# Aggregating Reviews.dat files\n",
    "# Had trouble creating a nice table with columns based on the different data types\n",
    "# Do we need to extract the data from each line? Not sure how to go about that\n",
    "# Attempted concat, append, and merge and nothing worked\n",
    "# Also wasn't sure how to \"load only a small subset\" so this was taxing on our computers\n",
    "\n",
    "import glob\n",
    "import pandas as pd\n",
    "\n",
    "for filename in glob.glob('reviews/*.dat'):\n",
    "    data = pd.read_csv(filename)\n",
    "    print(data)"
   ]
  },
  {
   "cell_type": "code",
   "execution_count": 2,
   "metadata": {},
   "outputs": [],
   "source": [
    "import pandas as pd\n",
    "\n",
    "rev = pd.read_csv('reviews/review00001.dat', names=['values'], delimiter=':')"
   ]
  },
  {
   "cell_type": "code",
   "execution_count": 16,
   "metadata": {},
   "outputs": [
    {
     "data": {
      "text/plain": [
       "' 9192'"
      ]
     },
     "execution_count": 16,
     "metadata": {},
     "output_type": "execute_result"
    }
   ],
   "source": [
    "rev['values'].loc['Customer ID']"
   ]
  },
  {
   "cell_type": "code",
   "execution_count": 15,
   "metadata": {},
   "outputs": [
    {
     "data": {
      "text/plain": [
       "' 9192'"
      ]
     },
     "execution_count": 15,
     "metadata": {},
     "output_type": "execute_result"
    }
   ],
   "source": [
    "rev.loc['Customer ID'][0]"
   ]
  },
  {
   "cell_type": "code",
   "execution_count": null,
   "metadata": {},
   "outputs": [],
   "source": [
    "# we can load all as dataframes and try to glue them together someone\n",
    "# or load each one and convert into dictionary of series, then covert back to dataframe\n",
    "# or to get all files loaded we can either match them using some kind of tool like glob, or\n",
    "# we can build the name of each review"
   ]
  },
  {
   "cell_type": "code",
   "execution_count": 3,
   "metadata": {},
   "outputs": [
    {
     "data": {
      "text/plain": [
       "['reviews/review00008.dat',\n",
       " 'reviews/review00009.dat',\n",
       " 'reviews/review00007.dat',\n",
       " 'reviews/review00006.dat',\n",
       " 'reviews/review00004.dat',\n",
       " 'reviews/review00005.dat',\n",
       " 'reviews/review00001.dat',\n",
       " 'reviews/review00000.dat',\n",
       " 'reviews/review00002.dat',\n",
       " 'reviews/review00003.dat']"
      ]
     },
     "execution_count": 3,
     "metadata": {},
     "output_type": "execute_result"
    }
   ],
   "source": [
    "# glob method\n",
    "from glob import glob\n",
    "\n",
    "#gives a list of files that start with review0000 (aka it's not all of the files)\n",
    "glob('reviews/review0000*.dat')"
   ]
  },
  {
   "cell_type": "code",
   "execution_count": 4,
   "metadata": {},
   "outputs": [
    {
     "data": {
      "text/plain": [
       "['reviews/review00000.dat',\n",
       " 'reviews/review00001.dat',\n",
       " 'reviews/review00002.dat',\n",
       " 'reviews/review00003.dat',\n",
       " 'reviews/review00004.dat',\n",
       " 'reviews/review00005.dat',\n",
       " 'reviews/review00006.dat',\n",
       " 'reviews/review00007.dat',\n",
       " 'reviews/review00008.dat',\n",
       " 'reviews/review00009.dat']"
      ]
     },
     "execution_count": 4,
     "metadata": {},
     "output_type": "execute_result"
    }
   ],
   "source": [
    "from glob import glob\n",
    "\n",
    "list_of_files = sorted(glob('reviews/review0000*.dat'))\n",
    "list_of_files"
   ]
  },
  {
   "cell_type": "code",
   "execution_count": 5,
   "metadata": {},
   "outputs": [],
   "source": [
    "list_of_files = []\n",
    "for i in range(0, 50000):\n",
    "    list_of_files.append('reviews/review'+str(i).zfill(5)+'.dat')"
   ]
  },
  {
   "cell_type": "code",
   "execution_count": 6,
   "metadata": {},
   "outputs": [],
   "source": [
    "# load each file separately then process it\n",
    "custs = []\n",
    "invs = []\n",
    "prods = []\n",
    "\n",
    "for review_file in list_of_files: #[0:100]:\n",
    "    rev = pd.read_csv(review_file, names=['values'], delimiter=':')\n",
    "    custs.append(rev['values'].loc['Customer ID'][1: ])\n",
    "    invs.append(rev['values'].loc['Invoice ID'][1: ])\n",
    "    prods.append(int(rev['values'].loc['Product Rating'][1:].split('/')[0]))"
   ]
  },
  {
   "cell_type": "code",
   "execution_count": 7,
   "metadata": {},
   "outputs": [],
   "source": [
    "my_dict = {\n",
    "    'Customer_id': custs,\n",
    "    'Invoice_id' : invs,\n",
    "    'Rating': prods\n",
    "}"
   ]
  },
  {
   "cell_type": "code",
   "execution_count": 8,
   "metadata": {},
   "outputs": [],
   "source": [
    "ratings = pd.DataFrame.from_dict(my_dict)"
   ]
  },
  {
   "cell_type": "code",
   "execution_count": 9,
   "metadata": {},
   "outputs": [
    {
     "data": {
      "text/html": [
       "<div>\n",
       "<style scoped>\n",
       "    .dataframe tbody tr th:only-of-type {\n",
       "        vertical-align: middle;\n",
       "    }\n",
       "\n",
       "    .dataframe tbody tr th {\n",
       "        vertical-align: top;\n",
       "    }\n",
       "\n",
       "    .dataframe thead th {\n",
       "        text-align: right;\n",
       "    }\n",
       "</style>\n",
       "<table border=\"1\" class=\"dataframe\">\n",
       "  <thead>\n",
       "    <tr style=\"text-align: right;\">\n",
       "      <th></th>\n",
       "      <th>Customer_id</th>\n",
       "      <th>Invoice_id</th>\n",
       "      <th>Rating</th>\n",
       "    </tr>\n",
       "  </thead>\n",
       "  <tbody>\n",
       "    <tr>\n",
       "      <th>0</th>\n",
       "      <td>2383</td>\n",
       "      <td>S11999300004</td>\n",
       "      <td>2</td>\n",
       "    </tr>\n",
       "    <tr>\n",
       "      <th>1</th>\n",
       "      <td>9192</td>\n",
       "      <td>S05392500012</td>\n",
       "      <td>3</td>\n",
       "    </tr>\n",
       "    <tr>\n",
       "      <th>2</th>\n",
       "      <td>4847</td>\n",
       "      <td>S18588700081</td>\n",
       "      <td>3</td>\n",
       "    </tr>\n",
       "    <tr>\n",
       "      <th>3</th>\n",
       "      <td>4288</td>\n",
       "      <td>S34002200005</td>\n",
       "      <td>1</td>\n",
       "    </tr>\n",
       "    <tr>\n",
       "      <th>4</th>\n",
       "      <td>1193</td>\n",
       "      <td>S10611300016</td>\n",
       "      <td>4</td>\n",
       "    </tr>\n",
       "  </tbody>\n",
       "</table>\n",
       "</div>"
      ],
      "text/plain": [
       "  Customer_id    Invoice_id  Rating\n",
       "0        2383  S11999300004       2\n",
       "1        9192  S05392500012       3\n",
       "2        4847  S18588700081       3\n",
       "3        4288  S34002200005       1\n",
       "4        1193  S10611300016       4"
      ]
     },
     "execution_count": 9,
     "metadata": {},
     "output_type": "execute_result"
    }
   ],
   "source": [
    "ratings.head()"
   ]
  },
  {
   "cell_type": "code",
   "execution_count": 10,
   "metadata": {},
   "outputs": [],
   "source": [
    "ratings.to_csv('data_code/review.csv')"
   ]
  },
  {
   "cell_type": "markdown",
   "metadata": {},
   "source": [
    "### Merging the Database"
   ]
  },
  {
   "cell_type": "markdown",
   "metadata": {},
   "source": [
    "Once the data have been loaded into three separate tables, which I will here call `invoices`, `items`, and `reviews`, **you should merge them into each other.**  Your two master records are the invoices, which should never change in number, and the reviews, which are similarly fixed.  The item data can be combined with those.\n",
    "\n",
    "If using Pandas, you should use a `left` join on `invoices` with `items`.\n",
    "\n",
    "If using SQL, you should left-join `invoices` to `items`.\n",
    "\n",
    "This should yield a merged database, `invoices_all`, which contains the invoices as records and includes information about each item sold.\n",
    "\n",
    "Do the same for the reviews with the item data in `reviews_all`, except that you should `left` join on `reviews` with `invoices`, as not all invoice purchases generated reviews.  You should verify that you can obtain item IDs and rating numbers from the same database, as that will be necessary for the recommendation engine step below.\n",
    "\n",
    "_(If you need help with this step, reach out to me.  That offer stands for all of this, but this step is perhaps more complicated than some others.)_"
   ]
  },
  {
   "cell_type": "code",
   "execution_count": 2,
   "metadata": {},
   "outputs": [
    {
     "data": {
      "text/html": [
       "<div>\n",
       "<style scoped>\n",
       "    .dataframe tbody tr th:only-of-type {\n",
       "        vertical-align: middle;\n",
       "    }\n",
       "\n",
       "    .dataframe tbody tr th {\n",
       "        vertical-align: top;\n",
       "    }\n",
       "\n",
       "    .dataframe thead th {\n",
       "        text-align: right;\n",
       "    }\n",
       "</style>\n",
       "<table border=\"1\" class=\"dataframe\">\n",
       "  <thead>\n",
       "    <tr style=\"text-align: right;\">\n",
       "      <th></th>\n",
       "      <th>Customer_id</th>\n",
       "      <th>Invoice_id</th>\n",
       "      <th>Rating</th>\n",
       "      <th>Date</th>\n",
       "      <th>Item_id</th>\n",
       "      <th>Vendor_id</th>\n",
       "      <th>Vendor_Name</th>\n",
       "      <th>Store_id</th>\n",
       "      <th>Store_Name</th>\n",
       "      <th>Address</th>\n",
       "      <th>...</th>\n",
       "      <th>Zip_Code</th>\n",
       "      <th>County_id</th>\n",
       "      <th>County_Name</th>\n",
       "      <th>Bottles_Sold</th>\n",
       "      <th>Item_Description</th>\n",
       "      <th>Category</th>\n",
       "      <th>Pack</th>\n",
       "      <th>Bottle_Volume_ml</th>\n",
       "      <th>Bottle_Cost</th>\n",
       "      <th>Bottle_Retail_Price</th>\n",
       "    </tr>\n",
       "  </thead>\n",
       "  <tbody>\n",
       "    <tr>\n",
       "      <th>0</th>\n",
       "      <td>2383</td>\n",
       "      <td>S11999300004</td>\n",
       "      <td>2</td>\n",
       "      <td>2013-05-02</td>\n",
       "      <td>89196</td>\n",
       "      <td>395</td>\n",
       "      <td>Mankanshoku Inc.</td>\n",
       "      <td>4072</td>\n",
       "      <td>Famous Durg</td>\n",
       "      <td>2604 W LOCUST ST</td>\n",
       "      <td>...</td>\n",
       "      <td>52804</td>\n",
       "      <td>82</td>\n",
       "      <td>Scott</td>\n",
       "      <td>12</td>\n",
       "      <td>Hisoka's Cola</td>\n",
       "      <td>Cola</td>\n",
       "      <td>12</td>\n",
       "      <td>750.0</td>\n",
       "      <td>2.98</td>\n",
       "      <td>4.47</td>\n",
       "    </tr>\n",
       "    <tr>\n",
       "      <th>1</th>\n",
       "      <td>9192</td>\n",
       "      <td>S05392500012</td>\n",
       "      <td>3</td>\n",
       "      <td>2012-05-08</td>\n",
       "      <td>58836</td>\n",
       "      <td>395</td>\n",
       "      <td>Mankanshoku Inc.</td>\n",
       "      <td>3858</td>\n",
       "      <td>Harolds Jack N Jill / Davenport</td>\n",
       "      <td>6723 NW BLVD UNIT 2</td>\n",
       "      <td>...</td>\n",
       "      <td>52806</td>\n",
       "      <td>82</td>\n",
       "      <td>Scott</td>\n",
       "      <td>12</td>\n",
       "      <td>Shinji's Lime</td>\n",
       "      <td>Lime Soda</td>\n",
       "      <td>12</td>\n",
       "      <td>750.0</td>\n",
       "      <td>2.15</td>\n",
       "      <td>3.22</td>\n",
       "    </tr>\n",
       "    <tr>\n",
       "      <th>2</th>\n",
       "      <td>4847</td>\n",
       "      <td>S18588700081</td>\n",
       "      <td>3</td>\n",
       "      <td>2014-04-23</td>\n",
       "      <td>73702</td>\n",
       "      <td>259</td>\n",
       "      <td>Inaba Brands</td>\n",
       "      <td>2637</td>\n",
       "      <td>Hy-Vee #5 / Davenport</td>\n",
       "      <td>2351 W LOCUST</td>\n",
       "      <td>...</td>\n",
       "      <td>52804</td>\n",
       "      <td>82</td>\n",
       "      <td>Scott</td>\n",
       "      <td>12</td>\n",
       "      <td>Alucard's Ginger Soda</td>\n",
       "      <td>Ginger Ale</td>\n",
       "      <td>12</td>\n",
       "      <td>750.0</td>\n",
       "      <td>2.62</td>\n",
       "      <td>3.93</td>\n",
       "    </tr>\n",
       "    <tr>\n",
       "      <th>3</th>\n",
       "      <td>4288</td>\n",
       "      <td>S34002200005</td>\n",
       "      <td>1</td>\n",
       "      <td>2016-08-18</td>\n",
       "      <td>35916</td>\n",
       "      <td>297</td>\n",
       "      <td>Katou Company</td>\n",
       "      <td>4694</td>\n",
       "      <td>Rina Mart LLC / Davenport</td>\n",
       "      <td>3815, WEST KIMBERLY RD</td>\n",
       "      <td>...</td>\n",
       "      <td>52806</td>\n",
       "      <td>82</td>\n",
       "      <td>Scott</td>\n",
       "      <td>12</td>\n",
       "      <td>Haruko's Gourmet Black Cherry Soda</td>\n",
       "      <td>Cherry Soda</td>\n",
       "      <td>12</td>\n",
       "      <td>750.0</td>\n",
       "      <td>1.97</td>\n",
       "      <td>2.96</td>\n",
       "    </tr>\n",
       "    <tr>\n",
       "      <th>4</th>\n",
       "      <td>1193</td>\n",
       "      <td>S10611300016</td>\n",
       "      <td>4</td>\n",
       "      <td>2013-02-14</td>\n",
       "      <td>26821</td>\n",
       "      <td>85</td>\n",
       "      <td>Ayuzawa Corporation</td>\n",
       "      <td>4076</td>\n",
       "      <td>Sakar Durg Store</td>\n",
       "      <td>1026 W RIVER DR #B</td>\n",
       "      <td>...</td>\n",
       "      <td>52802</td>\n",
       "      <td>82</td>\n",
       "      <td>Scott</td>\n",
       "      <td>2</td>\n",
       "      <td>Killua's Watermelon Cream</td>\n",
       "      <td>Cream Soda</td>\n",
       "      <td>12</td>\n",
       "      <td>500.0</td>\n",
       "      <td>2.78</td>\n",
       "      <td>4.17</td>\n",
       "    </tr>\n",
       "    <tr>\n",
       "      <th>...</th>\n",
       "      <td>...</td>\n",
       "      <td>...</td>\n",
       "      <td>...</td>\n",
       "      <td>...</td>\n",
       "      <td>...</td>\n",
       "      <td>...</td>\n",
       "      <td>...</td>\n",
       "      <td>...</td>\n",
       "      <td>...</td>\n",
       "      <td>...</td>\n",
       "      <td>...</td>\n",
       "      <td>...</td>\n",
       "      <td>...</td>\n",
       "      <td>...</td>\n",
       "      <td>...</td>\n",
       "      <td>...</td>\n",
       "      <td>...</td>\n",
       "      <td>...</td>\n",
       "      <td>...</td>\n",
       "      <td>...</td>\n",
       "      <td>...</td>\n",
       "    </tr>\n",
       "    <tr>\n",
       "      <th>49995</th>\n",
       "      <td>4626</td>\n",
       "      <td>S16848500007</td>\n",
       "      <td>1</td>\n",
       "      <td>2014-01-15</td>\n",
       "      <td>23823</td>\n",
       "      <td>297</td>\n",
       "      <td>Katou Company</td>\n",
       "      <td>4588</td>\n",
       "      <td>Sam's Mini Mart / Sioux City</td>\n",
       "      <td>923, W 7TH ST</td>\n",
       "      <td>...</td>\n",
       "      <td>51103</td>\n",
       "      <td>97</td>\n",
       "      <td>Woodbury</td>\n",
       "      <td>48</td>\n",
       "      <td>Anju's Watermelon Cream</td>\n",
       "      <td>Cream Soda</td>\n",
       "      <td>48</td>\n",
       "      <td>200.0</td>\n",
       "      <td>1.67</td>\n",
       "      <td>2.49</td>\n",
       "    </tr>\n",
       "    <tr>\n",
       "      <th>49996</th>\n",
       "      <td>4210</td>\n",
       "      <td>S17365600075</td>\n",
       "      <td>1</td>\n",
       "      <td>2014-02-12</td>\n",
       "      <td>58875</td>\n",
       "      <td>395</td>\n",
       "      <td>Mankanshoku Inc.</td>\n",
       "      <td>3757</td>\n",
       "      <td>Wal-Mart 3590 / Sioux City</td>\n",
       "      <td>3101 FLOYD BLVD</td>\n",
       "      <td>...</td>\n",
       "      <td>51108</td>\n",
       "      <td>97</td>\n",
       "      <td>Woodbury</td>\n",
       "      <td>6</td>\n",
       "      <td>Shiro's Lime</td>\n",
       "      <td>Lime Soda</td>\n",
       "      <td>6</td>\n",
       "      <td>1750.0</td>\n",
       "      <td>2.98</td>\n",
       "      <td>4.47</td>\n",
       "    </tr>\n",
       "    <tr>\n",
       "      <th>49997</th>\n",
       "      <td>9072</td>\n",
       "      <td>S15191300043</td>\n",
       "      <td>4</td>\n",
       "      <td>2013-10-16</td>\n",
       "      <td>33918</td>\n",
       "      <td>434</td>\n",
       "      <td>Minami LLC</td>\n",
       "      <td>3797</td>\n",
       "      <td>The Durg Store / Davenport</td>\n",
       "      <td>211  W 53RD ST</td>\n",
       "      <td>...</td>\n",
       "      <td>52806</td>\n",
       "      <td>82</td>\n",
       "      <td>Scott</td>\n",
       "      <td>1</td>\n",
       "      <td>Shougo's Red Pop</td>\n",
       "      <td>Cherry Soda</td>\n",
       "      <td>12</td>\n",
       "      <td>500.0</td>\n",
       "      <td>2.20</td>\n",
       "      <td>3.30</td>\n",
       "    </tr>\n",
       "    <tr>\n",
       "      <th>49998</th>\n",
       "      <td>3919</td>\n",
       "      <td>S12888100001</td>\n",
       "      <td>5</td>\n",
       "      <td>2013-06-18</td>\n",
       "      <td>27102</td>\n",
       "      <td>255</td>\n",
       "      <td>Ikari Ltd.</td>\n",
       "      <td>2625</td>\n",
       "      <td>Hy-Vee Convenience Store #2</td>\n",
       "      <td>3301 W KIMBERLY RD</td>\n",
       "      <td>...</td>\n",
       "      <td>52804</td>\n",
       "      <td>82</td>\n",
       "      <td>Scott</td>\n",
       "      <td>6</td>\n",
       "      <td>L's Watermelon Cream</td>\n",
       "      <td>Cream Soda</td>\n",
       "      <td>6</td>\n",
       "      <td>750.0</td>\n",
       "      <td>4.05</td>\n",
       "      <td>6.08</td>\n",
       "    </tr>\n",
       "    <tr>\n",
       "      <th>49999</th>\n",
       "      <td>5677</td>\n",
       "      <td>S29938600001</td>\n",
       "      <td>4</td>\n",
       "      <td>2015-12-29</td>\n",
       "      <td>10807</td>\n",
       "      <td>260</td>\n",
       "      <td>Inuyasha Brands</td>\n",
       "      <td>2637</td>\n",
       "      <td>Hy-Vee #5 / Davenport</td>\n",
       "      <td>2351 W LOCUST</td>\n",
       "      <td>...</td>\n",
       "      <td>52804</td>\n",
       "      <td>82</td>\n",
       "      <td>Scott</td>\n",
       "      <td>12</td>\n",
       "      <td>Mako's Old Fashioned Cream Soda</td>\n",
       "      <td>Cream Soda</td>\n",
       "      <td>12</td>\n",
       "      <td>750.0</td>\n",
       "      <td>3.61</td>\n",
       "      <td>5.42</td>\n",
       "    </tr>\n",
       "  </tbody>\n",
       "</table>\n",
       "<p>50000 rows × 21 columns</p>\n",
       "</div>"
      ],
      "text/plain": [
       "       Customer_id    Invoice_id  Rating        Date  Item_id  Vendor_id  \\\n",
       "0             2383  S11999300004       2  2013-05-02    89196        395   \n",
       "1             9192  S05392500012       3  2012-05-08    58836        395   \n",
       "2             4847  S18588700081       3  2014-04-23    73702        259   \n",
       "3             4288  S34002200005       1  2016-08-18    35916        297   \n",
       "4             1193  S10611300016       4  2013-02-14    26821         85   \n",
       "...            ...           ...     ...         ...      ...        ...   \n",
       "49995         4626  S16848500007       1  2014-01-15    23823        297   \n",
       "49996         4210  S17365600075       1  2014-02-12    58875        395   \n",
       "49997         9072  S15191300043       4  2013-10-16    33918        434   \n",
       "49998         3919  S12888100001       5  2013-06-18    27102        255   \n",
       "49999         5677  S29938600001       4  2015-12-29    10807        260   \n",
       "\n",
       "               Vendor_Name  Store_id                       Store_Name  \\\n",
       "0         Mankanshoku Inc.      4072                      Famous Durg   \n",
       "1         Mankanshoku Inc.      3858  Harolds Jack N Jill / Davenport   \n",
       "2             Inaba Brands      2637            Hy-Vee #5 / Davenport   \n",
       "3            Katou Company      4694        Rina Mart LLC / Davenport   \n",
       "4      Ayuzawa Corporation      4076                 Sakar Durg Store   \n",
       "...                    ...       ...                              ...   \n",
       "49995        Katou Company      4588     Sam's Mini Mart / Sioux City   \n",
       "49996     Mankanshoku Inc.      3757       Wal-Mart 3590 / Sioux City   \n",
       "49997           Minami LLC      3797       The Durg Store / Davenport   \n",
       "49998           Ikari Ltd.      2625      Hy-Vee Convenience Store #2   \n",
       "49999      Inuyasha Brands      2637            Hy-Vee #5 / Davenport   \n",
       "\n",
       "                      Address  ... Zip_Code  County_id  County_Name  \\\n",
       "0            2604 W LOCUST ST  ...    52804         82        Scott   \n",
       "1         6723 NW BLVD UNIT 2  ...    52806         82        Scott   \n",
       "2               2351 W LOCUST  ...    52804         82        Scott   \n",
       "3      3815, WEST KIMBERLY RD  ...    52806         82        Scott   \n",
       "4          1026 W RIVER DR #B  ...    52802         82        Scott   \n",
       "...                       ...  ...      ...        ...          ...   \n",
       "49995           923, W 7TH ST  ...    51103         97     Woodbury   \n",
       "49996         3101 FLOYD BLVD  ...    51108         97     Woodbury   \n",
       "49997          211  W 53RD ST  ...    52806         82        Scott   \n",
       "49998      3301 W KIMBERLY RD  ...    52804         82        Scott   \n",
       "49999           2351 W LOCUST  ...    52804         82        Scott   \n",
       "\n",
       "      Bottles_Sold                    Item_Description     Category Pack  \\\n",
       "0               12                       Hisoka's Cola         Cola   12   \n",
       "1               12                       Shinji's Lime    Lime Soda   12   \n",
       "2               12               Alucard's Ginger Soda   Ginger Ale   12   \n",
       "3               12  Haruko's Gourmet Black Cherry Soda  Cherry Soda   12   \n",
       "4                2           Killua's Watermelon Cream   Cream Soda   12   \n",
       "...            ...                                 ...          ...  ...   \n",
       "49995           48             Anju's Watermelon Cream   Cream Soda   48   \n",
       "49996            6                        Shiro's Lime    Lime Soda    6   \n",
       "49997            1                    Shougo's Red Pop  Cherry Soda   12   \n",
       "49998            6                L's Watermelon Cream   Cream Soda    6   \n",
       "49999           12     Mako's Old Fashioned Cream Soda   Cream Soda   12   \n",
       "\n",
       "       Bottle_Volume_ml  Bottle_Cost  Bottle_Retail_Price  \n",
       "0                 750.0         2.98                 4.47  \n",
       "1                 750.0         2.15                 3.22  \n",
       "2                 750.0         2.62                 3.93  \n",
       "3                 750.0         1.97                 2.96  \n",
       "4                 500.0         2.78                 4.17  \n",
       "...                 ...          ...                  ...  \n",
       "49995             200.0         1.67                 2.49  \n",
       "49996            1750.0         2.98                 4.47  \n",
       "49997             500.0         2.20                 3.30  \n",
       "49998             750.0         4.05                 6.08  \n",
       "49999             750.0         3.61                 5.42  \n",
       "\n",
       "[50000 rows x 21 columns]"
      ]
     },
     "execution_count": 2,
     "metadata": {},
     "output_type": "execute_result"
    }
   ],
   "source": [
    "import pandas as pd\n",
    "\n",
    "invoices = pd.read_csv('data_code/invoice.csv')\n",
    "items = pd.read_csv('data_code/item.csv')\n",
    "reviews = pd.read_csv('data_code/review.csv', usecols = ['Customer_id','Invoice_id', 'Rating']) #isolating specific columns since there is an unnamed column in this file for some reason\n",
    "\n",
    "invoices_all = pd.merge(invoices, items, on='Item_id', how='left')\n",
    "reviews_all = pd.merge(reviews, invoices_all, on=\"Invoice_id\", how='left')\n",
    "\n",
    "reviews_all"
   ]
  },
  {
   "cell_type": "code",
   "execution_count": 100,
   "metadata": {},
   "outputs": [],
   "source": [
    "reviews_all.to_csv('data_code/reviews_all.csv')"
   ]
  },
  {
   "cell_type": "markdown",
   "metadata": {},
   "source": [
    "## Statistical Analysis of the Invoices"
   ]
  },
  {
   "cell_type": "markdown",
   "metadata": {},
   "source": [
    "Your manager wants you to take a look at the invoices and see if there's anything useful, salesworthy, or _fishy_ about them.  Now that you have a data table containing the invoices and item data, you are in a good situation to statistically analyze the values involved.\n",
    "\n",
    "First off, **decide which fields should be examined statistically.**  Does it make sense to correlate against, say, bottle volume?  Number of items in a pack?  Price?  Justify your decisions.\n",
    "\n",
    "Next, **carry out a basic statistical analysis looking for anomalies and outliers.**  These are loosely defined, but if you don't have a background in statistics, let's say that it's a value that lies at least four standard deviations from the mean, which means it should occur less than 6 in 100,000 times in a data set (0.006% likelihood).\n",
    "\n",
    "This step is well-suited to Python, in particular the [`scipy.stats` module](https://docs.scipy.org/doc/scipy/reference/stats.html).  If your data tables are in SQL, load them into Python via the PySQL interface."
   ]
  },
  {
   "cell_type": "markdown",
   "metadata": {},
   "source": [
    "For instance, a Python-based $t$-test, looking at the likelihood of correlation, could be written as"
   ]
  },
  {
   "cell_type": "markdown",
   "metadata": {},
   "source": [
    "## Original correlation code"
   ]
  },
  {
   "cell_type": "code",
   "execution_count": 24,
   "metadata": {},
   "outputs": [
    {
     "data": {
      "text/plain": [
       "Ttest_indResult(statistic=0.5238119970052665, pvalue=0.6004185721213342)"
      ]
     },
     "execution_count": 24,
     "metadata": {},
     "output_type": "execute_result"
    }
   ],
   "source": [
    "df_cs = reviews_all[reviews_all['Category'] == 'Cream Soda']\n",
    "df_rb = reviews_all[reviews_all['Category'] == 'Root Beer']\n",
    "\n",
    "from scipy import stats\n",
    "stats.ttest_ind(df_cs['Rating'],df_rb['Rating'],equal_var=False)"
   ]
  },
  {
   "cell_type": "markdown",
   "metadata": {},
   "source": [
    "## Root Beer Bottle Cost and Rating Correlation Section"
   ]
  },
  {
   "cell_type": "code",
   "execution_count": 53,
   "metadata": {},
   "outputs": [
    {
     "data": {
      "text/plain": [
       "Ttest_indResult(statistic=-5.027507424742324, pvalue=5.046990555891508e-07)"
      ]
     },
     "execution_count": 53,
     "metadata": {},
     "output_type": "execute_result"
    }
   ],
   "source": [
    "df_rb = reviews_all[reviews_all['Category'] == 'Root Beer']\n",
    "\n",
    "from scipy import stats\n",
    "stats.ttest_ind(df_rb['Bottle_Cost'],df_rb['Rating'],equal_var=False) #testing correlation between bottle cost & rating of Root Beer category"
   ]
  },
  {
   "cell_type": "code",
   "execution_count": 54,
   "metadata": {},
   "outputs": [
    {
     "data": {
      "image/png": "[encoded data removed]",
      "text/plain": [
       "<Figure size 432x288 with 1 Axes>"
      ]
     },
     "metadata": {
      "needs_background": "light"
     },
     "output_type": "display_data"
    }
   ],
   "source": [
    "%matplotlib inline\n",
    "import matplotlib.pyplot as plt\n",
    "\n",
    "df_rb = reviews_all[reviews_all['Category'] == 'Root Beer']\n",
    "\n",
    "# creating scatter plot comparing Bottle Cost data with Rating data for the Root Beer category\n",
    "plt.scatter(df_rb['Bottle_Cost'], df_rb['Rating'])\n",
    "plt.show()"
   ]
  },
  {
   "cell_type": "markdown",
   "metadata": {},
   "source": [
    "**Report: There appears to be some outliers in this particular correlation within the Root Beer category**"
   ]
  },
  {
   "cell_type": "markdown",
   "metadata": {},
   "source": [
    "## Cream Soda Bottle Cost and Rating Correlation Section"
   ]
  },
  {
   "cell_type": "code",
   "execution_count": 49,
   "metadata": {},
   "outputs": [
    {
     "data": {
      "text/plain": [
       "Ttest_indResult(statistic=3.4769165469781464, pvalue=0.0005081421915541813)"
      ]
     },
     "execution_count": 49,
     "metadata": {},
     "output_type": "execute_result"
    }
   ],
   "source": [
    "df_cs = reviews_all[reviews_all['Category'] == 'Cream Soda']\n",
    "\n",
    "from scipy import stats\n",
    "stats.ttest_ind(df_cs['Bottle_Cost'],df_cs['Rating'],equal_var=False) #testing correlation between bottle cost & rating of Cream Soda category"
   ]
  },
  {
   "cell_type": "code",
   "execution_count": 52,
   "metadata": {},
   "outputs": [
    {
     "data": {
      "image/png": "[encoded data removed]",
      "text/plain": [
       "<Figure size 432x288 with 1 Axes>"
      ]
     },
     "metadata": {
      "needs_background": "light"
     },
     "output_type": "display_data"
    }
   ],
   "source": [
    "%matplotlib inline\n",
    "import matplotlib.pyplot as plt\n",
    "\n",
    "df_cs = reviews_all[reviews_all['Category'] == 'Cream Soda']\n",
    "\n",
    "# creating scatter plot comparing Bottle Cost data with Rating data for the Cream Soda category\n",
    "plt.scatter(df_cs['Bottle_Cost'], df_cs['Rating'])\n",
    "plt.show()"
   ]
  },
  {
   "cell_type": "markdown",
   "metadata": {},
   "source": [
    "**Report: There appears to be some outlier information in this particular correlation within the Cream Sode category**"
   ]
  },
  {
   "cell_type": "markdown",
   "metadata": {},
   "source": [
    "In the result, the `pvalue` parameter is lower than $p=0.05$ if there is statistically significant correlation, greater than 0.05 otherwise."
   ]
  },
  {
   "cell_type": "markdown",
   "metadata": {},
   "source": [
    "Besides a quick look at correlations across categories, you should look at the statistical range and any outliers.  For instance, to check for outliers in items sold, we can get the standard deviation and look for records beyond our threshold:"
   ]
  },
  {
   "cell_type": "code",
   "execution_count": 56,
   "metadata": {},
   "outputs": [
    {
     "data": {
      "text/html": [
       "<div>\n",
       "<style scoped>\n",
       "    .dataframe tbody tr th:only-of-type {\n",
       "        vertical-align: middle;\n",
       "    }\n",
       "\n",
       "    .dataframe tbody tr th {\n",
       "        vertical-align: top;\n",
       "    }\n",
       "\n",
       "    .dataframe thead th {\n",
       "        text-align: right;\n",
       "    }\n",
       "</style>\n",
       "<table border=\"1\" class=\"dataframe\">\n",
       "  <thead>\n",
       "    <tr style=\"text-align: right;\">\n",
       "      <th></th>\n",
       "      <th>Invoice_id</th>\n",
       "      <th>Date</th>\n",
       "      <th>Item_id</th>\n",
       "      <th>Vendor_id</th>\n",
       "      <th>Vendor_Name</th>\n",
       "      <th>Store_id</th>\n",
       "      <th>Store_Name</th>\n",
       "      <th>Address</th>\n",
       "      <th>City_Name</th>\n",
       "      <th>Zip_Code</th>\n",
       "      <th>County_id</th>\n",
       "      <th>County_Name</th>\n",
       "      <th>Bottles_Sold</th>\n",
       "      <th>Item_Description</th>\n",
       "      <th>Category</th>\n",
       "      <th>Pack</th>\n",
       "      <th>Bottle_Volume_ml</th>\n",
       "      <th>Bottle_Cost</th>\n",
       "      <th>Bottle_Retail_Price</th>\n",
       "    </tr>\n",
       "  </thead>\n",
       "  <tbody>\n",
       "    <tr>\n",
       "      <th>3292</th>\n",
       "      <td>INV-00179900001</td>\n",
       "      <td>2016-09-07</td>\n",
       "      <td>34368</td>\n",
       "      <td>370</td>\n",
       "      <td>Kyon Inc.</td>\n",
       "      <td>2614</td>\n",
       "      <td>Hy-Vee #3 Food and Drugstore</td>\n",
       "      <td>1823 E KIMBERLY RD</td>\n",
       "      <td>DAVENPORT</td>\n",
       "      <td>52807</td>\n",
       "      <td>82</td>\n",
       "      <td>Scott</td>\n",
       "      <td>100</td>\n",
       "      <td>Ruby's Black Cherry</td>\n",
       "      <td>Cherry Soda</td>\n",
       "      <td>6</td>\n",
       "      <td>1750.0</td>\n",
       "      <td>2.91</td>\n",
       "      <td>4.37</td>\n",
       "    </tr>\n",
       "    <tr>\n",
       "      <th>5467</th>\n",
       "      <td>INV-00192900006</td>\n",
       "      <td>2016-09-08</td>\n",
       "      <td>11788</td>\n",
       "      <td>115</td>\n",
       "      <td>Deviluke Inc.</td>\n",
       "      <td>4196</td>\n",
       "      <td>Fareway Stores #987 / Davenport</td>\n",
       "      <td>1635 WEST 53RD ST</td>\n",
       "      <td>DAVENPORT</td>\n",
       "      <td>52806</td>\n",
       "      <td>82</td>\n",
       "      <td>Scott</td>\n",
       "      <td>100</td>\n",
       "      <td>Meliodas's Old Fashioned Cream Soda</td>\n",
       "      <td>Cream Soda</td>\n",
       "      <td>6</td>\n",
       "      <td>1750.0</td>\n",
       "      <td>2.87</td>\n",
       "      <td>4.41</td>\n",
       "    </tr>\n",
       "    <tr>\n",
       "      <th>15765</th>\n",
       "      <td>INV-00741300073</td>\n",
       "      <td>2016-10-05</td>\n",
       "      <td>37347</td>\n",
       "      <td>380</td>\n",
       "      <td>Le Company</td>\n",
       "      <td>2625</td>\n",
       "      <td>Hy-Vee Convenience Store #2</td>\n",
       "      <td>3301 W KIMBERLY RD</td>\n",
       "      <td>DAVENPORT</td>\n",
       "      <td>52804</td>\n",
       "      <td>82</td>\n",
       "      <td>Scott</td>\n",
       "      <td>100</td>\n",
       "      <td>Howl's Gourmet Black Cherry Soda</td>\n",
       "      <td>Cherry Soda</td>\n",
       "      <td>12</td>\n",
       "      <td>1000.0</td>\n",
       "      <td>2.10</td>\n",
       "      <td>3.15</td>\n",
       "    </tr>\n",
       "    <tr>\n",
       "      <th>24376</th>\n",
       "      <td>INV-01082500004</td>\n",
       "      <td>2016-10-20</td>\n",
       "      <td>11296</td>\n",
       "      <td>260</td>\n",
       "      <td>Inuyasha Brands</td>\n",
       "      <td>2635</td>\n",
       "      <td>Hy-Vee #4 / Davenport</td>\n",
       "      <td>4064 E 53RD ST</td>\n",
       "      <td>DAVENPORT</td>\n",
       "      <td>52807</td>\n",
       "      <td>82</td>\n",
       "      <td>Scott</td>\n",
       "      <td>275</td>\n",
       "      <td>Mayoi's Old Fashioned Cream Soda</td>\n",
       "      <td>Cream Soda</td>\n",
       "      <td>12</td>\n",
       "      <td>750.0</td>\n",
       "      <td>3.51</td>\n",
       "      <td>5.26</td>\n",
       "    </tr>\n",
       "    <tr>\n",
       "      <th>24391</th>\n",
       "      <td>INV-01082500019</td>\n",
       "      <td>2016-10-20</td>\n",
       "      <td>64868</td>\n",
       "      <td>421</td>\n",
       "      <td>Midoriya Inc.</td>\n",
       "      <td>2635</td>\n",
       "      <td>Hy-Vee #4 / Davenport</td>\n",
       "      <td>4064 E 53RD ST</td>\n",
       "      <td>DAVENPORT</td>\n",
       "      <td>52807</td>\n",
       "      <td>82</td>\n",
       "      <td>Scott</td>\n",
       "      <td>100</td>\n",
       "      <td>Sakura's Root Beer</td>\n",
       "      <td>Root Beer</td>\n",
       "      <td>6</td>\n",
       "      <td>1750.0</td>\n",
       "      <td>3.66</td>\n",
       "      <td>5.49</td>\n",
       "    </tr>\n",
       "    <tr>\n",
       "      <th>...</th>\n",
       "      <td>...</td>\n",
       "      <td>...</td>\n",
       "      <td>...</td>\n",
       "      <td>...</td>\n",
       "      <td>...</td>\n",
       "      <td>...</td>\n",
       "      <td>...</td>\n",
       "      <td>...</td>\n",
       "      <td>...</td>\n",
       "      <td>...</td>\n",
       "      <td>...</td>\n",
       "      <td>...</td>\n",
       "      <td>...</td>\n",
       "      <td>...</td>\n",
       "      <td>...</td>\n",
       "      <td>...</td>\n",
       "      <td>...</td>\n",
       "      <td>...</td>\n",
       "      <td>...</td>\n",
       "    </tr>\n",
       "    <tr>\n",
       "      <th>929517</th>\n",
       "      <td>S34103000066</td>\n",
       "      <td>2016-08-24</td>\n",
       "      <td>89577</td>\n",
       "      <td>55</td>\n",
       "      <td>Arlert Company</td>\n",
       "      <td>2625</td>\n",
       "      <td>Hy-Vee Convenience Store #2</td>\n",
       "      <td>3301 W KIMBERLY RD</td>\n",
       "      <td>DAVENPORT</td>\n",
       "      <td>52804</td>\n",
       "      <td>82</td>\n",
       "      <td>Scott</td>\n",
       "      <td>120</td>\n",
       "      <td>Itachi's Cola</td>\n",
       "      <td>Cola</td>\n",
       "      <td>12</td>\n",
       "      <td>1000.0</td>\n",
       "      <td>2.49</td>\n",
       "      <td>3.74</td>\n",
       "    </tr>\n",
       "    <tr>\n",
       "      <th>929531</th>\n",
       "      <td>S34103000080</td>\n",
       "      <td>2016-08-24</td>\n",
       "      <td>10808</td>\n",
       "      <td>260</td>\n",
       "      <td>Inuyasha Brands</td>\n",
       "      <td>2625</td>\n",
       "      <td>Hy-Vee Convenience Store #2</td>\n",
       "      <td>3301 W KIMBERLY RD</td>\n",
       "      <td>DAVENPORT</td>\n",
       "      <td>52804</td>\n",
       "      <td>82</td>\n",
       "      <td>Scott</td>\n",
       "      <td>360</td>\n",
       "      <td>Mako's Cream Soda</td>\n",
       "      <td>Cream Soda</td>\n",
       "      <td>12</td>\n",
       "      <td>1000.0</td>\n",
       "      <td>4.11</td>\n",
       "      <td>6.17</td>\n",
       "    </tr>\n",
       "    <tr>\n",
       "      <th>929550</th>\n",
       "      <td>S34103000099</td>\n",
       "      <td>2016-08-24</td>\n",
       "      <td>43337</td>\n",
       "      <td>260</td>\n",
       "      <td>Inuyasha Brands</td>\n",
       "      <td>2625</td>\n",
       "      <td>Hy-Vee Convenience Store #2</td>\n",
       "      <td>3301 W KIMBERLY RD</td>\n",
       "      <td>DAVENPORT</td>\n",
       "      <td>52804</td>\n",
       "      <td>82</td>\n",
       "      <td>Scott</td>\n",
       "      <td>120</td>\n",
       "      <td>Langley's Energy</td>\n",
       "      <td>Energy Drink</td>\n",
       "      <td>12</td>\n",
       "      <td>1000.0</td>\n",
       "      <td>3.16</td>\n",
       "      <td>4.74</td>\n",
       "    </tr>\n",
       "    <tr>\n",
       "      <th>930191</th>\n",
       "      <td>S34113900073</td>\n",
       "      <td>2016-08-25</td>\n",
       "      <td>64870</td>\n",
       "      <td>421</td>\n",
       "      <td>Midoriya Inc.</td>\n",
       "      <td>2635</td>\n",
       "      <td>Hy-Vee #4 / Davenport</td>\n",
       "      <td>4064 E 53RD ST</td>\n",
       "      <td>DAVENPORT</td>\n",
       "      <td>52807</td>\n",
       "      <td>82</td>\n",
       "      <td>Scott</td>\n",
       "      <td>192</td>\n",
       "      <td>Saitama's Craft Root Beer</td>\n",
       "      <td>Root Beer</td>\n",
       "      <td>48</td>\n",
       "      <td>100.0</td>\n",
       "      <td>1.63</td>\n",
       "      <td>2.45</td>\n",
       "    </tr>\n",
       "    <tr>\n",
       "      <th>930284</th>\n",
       "      <td>S34114100009</td>\n",
       "      <td>2016-08-25</td>\n",
       "      <td>64870</td>\n",
       "      <td>421</td>\n",
       "      <td>Midoriya Inc.</td>\n",
       "      <td>4638</td>\n",
       "      <td>GD Xpress / Davenport</td>\n",
       "      <td>4607 N PINE ST</td>\n",
       "      <td>DAVENPORT</td>\n",
       "      <td>52804</td>\n",
       "      <td>82</td>\n",
       "      <td>Scott</td>\n",
       "      <td>192</td>\n",
       "      <td>Saitama's Craft Root Beer</td>\n",
       "      <td>Root Beer</td>\n",
       "      <td>48</td>\n",
       "      <td>100.0</td>\n",
       "      <td>1.63</td>\n",
       "      <td>2.45</td>\n",
       "    </tr>\n",
       "  </tbody>\n",
       "</table>\n",
       "<p>5391 rows × 19 columns</p>\n",
       "</div>"
      ],
      "text/plain": [
       "             Invoice_id        Date  Item_id  Vendor_id      Vendor_Name  \\\n",
       "3292    INV-00179900001  2016-09-07    34368        370        Kyon Inc.   \n",
       "5467    INV-00192900006  2016-09-08    11788        115    Deviluke Inc.   \n",
       "15765   INV-00741300073  2016-10-05    37347        380       Le Company   \n",
       "24376   INV-01082500004  2016-10-20    11296        260  Inuyasha Brands   \n",
       "24391   INV-01082500019  2016-10-20    64868        421    Midoriya Inc.   \n",
       "...                 ...         ...      ...        ...              ...   \n",
       "929517     S34103000066  2016-08-24    89577         55   Arlert Company   \n",
       "929531     S34103000080  2016-08-24    10808        260  Inuyasha Brands   \n",
       "929550     S34103000099  2016-08-24    43337        260  Inuyasha Brands   \n",
       "930191     S34113900073  2016-08-25    64870        421    Midoriya Inc.   \n",
       "930284     S34114100009  2016-08-25    64870        421    Midoriya Inc.   \n",
       "\n",
       "        Store_id                       Store_Name             Address  \\\n",
       "3292        2614     Hy-Vee #3 Food and Drugstore  1823 E KIMBERLY RD   \n",
       "5467        4196  Fareway Stores #987 / Davenport   1635 WEST 53RD ST   \n",
       "15765       2625      Hy-Vee Convenience Store #2  3301 W KIMBERLY RD   \n",
       "24376       2635            Hy-Vee #4 / Davenport      4064 E 53RD ST   \n",
       "24391       2635            Hy-Vee #4 / Davenport      4064 E 53RD ST   \n",
       "...          ...                              ...                 ...   \n",
       "929517      2625      Hy-Vee Convenience Store #2  3301 W KIMBERLY RD   \n",
       "929531      2625      Hy-Vee Convenience Store #2  3301 W KIMBERLY RD   \n",
       "929550      2625      Hy-Vee Convenience Store #2  3301 W KIMBERLY RD   \n",
       "930191      2635            Hy-Vee #4 / Davenport      4064 E 53RD ST   \n",
       "930284      4638            GD Xpress / Davenport      4607 N PINE ST   \n",
       "\n",
       "        City_Name  Zip_Code  County_id County_Name  Bottles_Sold  \\\n",
       "3292    DAVENPORT     52807         82       Scott           100   \n",
       "5467    DAVENPORT     52806         82       Scott           100   \n",
       "15765   DAVENPORT     52804         82       Scott           100   \n",
       "24376   DAVENPORT     52807         82       Scott           275   \n",
       "24391   DAVENPORT     52807         82       Scott           100   \n",
       "...           ...       ...        ...         ...           ...   \n",
       "929517  DAVENPORT     52804         82       Scott           120   \n",
       "929531  DAVENPORT     52804         82       Scott           360   \n",
       "929550  DAVENPORT     52804         82       Scott           120   \n",
       "930191  DAVENPORT     52807         82       Scott           192   \n",
       "930284  DAVENPORT     52804         82       Scott           192   \n",
       "\n",
       "                           Item_Description      Category  Pack  \\\n",
       "3292                    Ruby's Black Cherry   Cherry Soda     6   \n",
       "5467    Meliodas's Old Fashioned Cream Soda    Cream Soda     6   \n",
       "15765      Howl's Gourmet Black Cherry Soda   Cherry Soda    12   \n",
       "24376      Mayoi's Old Fashioned Cream Soda    Cream Soda    12   \n",
       "24391                    Sakura's Root Beer     Root Beer     6   \n",
       "...                                     ...           ...   ...   \n",
       "929517                        Itachi's Cola          Cola    12   \n",
       "929531                    Mako's Cream Soda    Cream Soda    12   \n",
       "929550                     Langley's Energy  Energy Drink    12   \n",
       "930191            Saitama's Craft Root Beer     Root Beer    48   \n",
       "930284            Saitama's Craft Root Beer     Root Beer    48   \n",
       "\n",
       "        Bottle_Volume_ml  Bottle_Cost  Bottle_Retail_Price  \n",
       "3292              1750.0         2.91                 4.37  \n",
       "5467              1750.0         2.87                 4.41  \n",
       "15765             1000.0         2.10                 3.15  \n",
       "24376              750.0         3.51                 5.26  \n",
       "24391             1750.0         3.66                 5.49  \n",
       "...                  ...          ...                  ...  \n",
       "929517            1000.0         2.49                 3.74  \n",
       "929531            1000.0         4.11                 6.17  \n",
       "929550            1000.0         3.16                 4.74  \n",
       "930191             100.0         1.63                 2.45  \n",
       "930284             100.0         1.63                 2.45  \n",
       "\n",
       "[5391 rows x 19 columns]"
      ]
     },
     "execution_count": 56,
     "metadata": {},
     "output_type": "execute_result"
    }
   ],
   "source": [
    "avg = invoices_all['Bottles_Sold'].mean()\n",
    "stdev = invoices_all['Bottles_Sold'].std()\n",
    "invoices_all[invoices_all['Bottles_Sold'] > avg+4*stdev]"
   ]
  },
  {
   "cell_type": "markdown",
   "metadata": {},
   "source": [
    "You should plot and observe if there are any clusters as well and what those may imply for the business perspective.\n",
    "\n",
    "Similarly, you should consider the review ratings and any correlations with particular products, product categories, or other features."
   ]
  },
  {
   "cell_type": "markdown",
   "metadata": {},
   "source": [
    "**Report on your findings:  any statistically significant correlations in ratings, in sales, etc., as well as any outliers in the data which seem suspicious to you and why.**  I don't presuppose anything about what may or may not be in these data.  If no one on your team knows much about statistics, then rely more on expanding the basic analyses I've sketched above."
   ]
  },
  {
   "cell_type": "markdown",
   "metadata": {},
   "source": [
    "### Team 1 Report"
   ]
  },
  {
   "cell_type": "markdown",
   "metadata": {},
   "source": [
    "We were able to run some basic statistical tests on other pieces of data but we aren't sure if either of them are of any significance. No one on the team has a strong stats experience. There appeared to be outliers in each of our plots but we are not knowledgeable enough to know how to navigate around those."
   ]
  },
  {
   "cell_type": "markdown",
   "metadata": {},
   "source": [
    "## A Recommendation Engine"
   ]
  },
  {
   "cell_type": "markdown",
   "metadata": {},
   "source": [
    "Your business manager has suggested using the review ratings as a resource for a recommendation engine.  A recommendation engine takes a product and searches for things those who rated this product highly also liked.\n",
    "\n",
    "A colleague of yours produced a recommendation engine using the principles outlined in the Data Analytics section of this program.  **You should prepare the data to plug into the recommendation engine, run some examples, and produce a report on the behavior and suitability.**"
   ]
  },
  {
   "cell_type": "markdown",
   "metadata": {},
   "source": [
    "### `holden`"
   ]
  },
  {
   "cell_type": "markdown",
   "metadata": {},
   "source": [
    "The essence of a recommendation engine is that it take a particular exemplar and produce a short list of similar suggestions.  This may be done on one of several bases:\n",
    "\n",
    "1. Raw popularity.  Simply return similarly-rated items.  This is coarse but trivial.\n",
    "2. Content similarity.  Requires extensive metadata tagging.  Combines \n",
    "3. Collaborative filtering.  Based on who rates a product highly and what else they rate highly.  (This is our approach.)\n",
    "\n",
    "    We have customer rating data tied to invoices, and invoice data tied to soft drink data, so we are able to produce a recommendation engine which operates on the appropriate columns.\n",
    "\n",
    "The recommendation engine `holden` is written in Python and accepts fields of data to compare.  These may be NumPy arrays, Pandas Series (columns from dataframes), or extracted from SQL via PySQL.\n",
    "\n",
    "I have tried to make `holden` fairly robust, but it requires a few columns:  `'Customer_id'`, `'Rating'`, `'Item_id'`, and `'Item_Description'`."
   ]
  },
  {
   "cell_type": "code",
   "execution_count": 17,
   "metadata": {},
   "outputs": [
    {
     "data": {
      "text/html": [
       "<div>\n",
       "<style scoped>\n",
       "    .dataframe tbody tr th:only-of-type {\n",
       "        vertical-align: middle;\n",
       "    }\n",
       "\n",
       "    .dataframe tbody tr th {\n",
       "        vertical-align: top;\n",
       "    }\n",
       "\n",
       "    .dataframe thead th {\n",
       "        text-align: right;\n",
       "    }\n",
       "</style>\n",
       "<table border=\"1\" class=\"dataframe\">\n",
       "  <thead>\n",
       "    <tr style=\"text-align: right;\">\n",
       "      <th></th>\n",
       "      <th>Customer_id</th>\n",
       "      <th>Rating</th>\n",
       "      <th>Item_id</th>\n",
       "      <th>Item_Description</th>\n",
       "    </tr>\n",
       "  </thead>\n",
       "  <tbody>\n",
       "    <tr>\n",
       "      <th>0</th>\n",
       "      <td>2383</td>\n",
       "      <td>2</td>\n",
       "      <td>89196</td>\n",
       "      <td>Hisoka's Cola</td>\n",
       "    </tr>\n",
       "    <tr>\n",
       "      <th>1</th>\n",
       "      <td>9192</td>\n",
       "      <td>3</td>\n",
       "      <td>58836</td>\n",
       "      <td>Shinji's Lime</td>\n",
       "    </tr>\n",
       "    <tr>\n",
       "      <th>2</th>\n",
       "      <td>4847</td>\n",
       "      <td>3</td>\n",
       "      <td>73702</td>\n",
       "      <td>Alucard's Ginger Soda</td>\n",
       "    </tr>\n",
       "    <tr>\n",
       "      <th>3</th>\n",
       "      <td>4288</td>\n",
       "      <td>1</td>\n",
       "      <td>35916</td>\n",
       "      <td>Haruko's Gourmet Black Cherry Soda</td>\n",
       "    </tr>\n",
       "    <tr>\n",
       "      <th>4</th>\n",
       "      <td>1193</td>\n",
       "      <td>4</td>\n",
       "      <td>26821</td>\n",
       "      <td>Killua's Watermelon Cream</td>\n",
       "    </tr>\n",
       "    <tr>\n",
       "      <th>...</th>\n",
       "      <td>...</td>\n",
       "      <td>...</td>\n",
       "      <td>...</td>\n",
       "      <td>...</td>\n",
       "    </tr>\n",
       "    <tr>\n",
       "      <th>49995</th>\n",
       "      <td>4626</td>\n",
       "      <td>1</td>\n",
       "      <td>23823</td>\n",
       "      <td>Anju's Watermelon Cream</td>\n",
       "    </tr>\n",
       "    <tr>\n",
       "      <th>49996</th>\n",
       "      <td>4210</td>\n",
       "      <td>1</td>\n",
       "      <td>58875</td>\n",
       "      <td>Shiro's Lime</td>\n",
       "    </tr>\n",
       "    <tr>\n",
       "      <th>49997</th>\n",
       "      <td>9072</td>\n",
       "      <td>4</td>\n",
       "      <td>33918</td>\n",
       "      <td>Shougo's Red Pop</td>\n",
       "    </tr>\n",
       "    <tr>\n",
       "      <th>49998</th>\n",
       "      <td>3919</td>\n",
       "      <td>5</td>\n",
       "      <td>27102</td>\n",
       "      <td>L's Watermelon Cream</td>\n",
       "    </tr>\n",
       "    <tr>\n",
       "      <th>49999</th>\n",
       "      <td>5677</td>\n",
       "      <td>4</td>\n",
       "      <td>10807</td>\n",
       "      <td>Mako's Old Fashioned Cream Soda</td>\n",
       "    </tr>\n",
       "  </tbody>\n",
       "</table>\n",
       "<p>50000 rows × 4 columns</p>\n",
       "</div>"
      ],
      "text/plain": [
       "       Customer_id  Rating  Item_id                    Item_Description\n",
       "0             2383       2    89196                       Hisoka's Cola\n",
       "1             9192       3    58836                       Shinji's Lime\n",
       "2             4847       3    73702               Alucard's Ginger Soda\n",
       "3             4288       1    35916  Haruko's Gourmet Black Cherry Soda\n",
       "4             1193       4    26821           Killua's Watermelon Cream\n",
       "...            ...     ...      ...                                 ...\n",
       "49995         4626       1    23823             Anju's Watermelon Cream\n",
       "49996         4210       1    58875                        Shiro's Lime\n",
       "49997         9072       4    33918                    Shougo's Red Pop\n",
       "49998         3919       5    27102                L's Watermelon Cream\n",
       "49999         5677       4    10807     Mako's Old Fashioned Cream Soda\n",
       "\n",
       "[50000 rows x 4 columns]"
      ]
     },
     "execution_count": 17,
     "metadata": {},
     "output_type": "execute_result"
    }
   ],
   "source": [
    "# Checked all_df output to see if dataset was actually populated; it is so the issue must be with holden itself\n",
    "import holden\n",
    "import pandas as pd\n",
    "\n",
    "all_df = pd.DataFrame(reviews_all, columns=['Customer_id', 'Rating', 'Item_id', 'Item_Description'])\n",
    "\n",
    "all_df"
   ]
  },
  {
   "cell_type": "code",
   "execution_count": 126,
   "metadata": {},
   "outputs": [],
   "source": [
    "import holden\n",
    "import pandas as pd\n",
    "import numpy as np\n",
    "import matplotlib.pyplot as py\n",
    "\n",
    "all_df = pd.DataFrame(reviews_all, columns=['Customer_id', 'Rating', 'Item_id', 'Item_Description']) #tried attaching iloc method in this line\n",
    "\n",
    "rec = holden.holden()\n",
    "rec.initialize(all_df[:-1]) #trying to pinpoint indexing in attempt to prevent it from going \"out-of-bounds\""
   ]
  },
  {
   "cell_type": "code",
   "execution_count": 111,
   "metadata": {},
   "outputs": [
    {
     "data": {
      "text/plain": [
       "50000"
      ]
     },
     "execution_count": 111,
     "metadata": {},
     "output_type": "execute_result"
    }
   ],
   "source": [
    "#checkig the length of the object being indexed\n",
    "len(all_df)"
   ]
  },
  {
   "cell_type": "code",
   "execution_count": 127,
   "metadata": {},
   "outputs": [
    {
     "ename": "IndexError",
     "evalue": "single positional indexer is out-of-bounds",
     "output_type": "error",
     "traceback": [
      "\u001b[0;31m---------------------------------------------------------------------------\u001b[0m",
      "\u001b[0;31mIndexError\u001b[0m                                Traceback (most recent call last)",
      "\u001b[0;32m<ipython-input-127-83cc6304d6c6>\u001b[0m in \u001b[0;36m<module>\u001b[0;34m\u001b[0m\n\u001b[0;32m----> 1\u001b[0;31m \u001b[0mrec\u001b[0m\u001b[0;34m.\u001b[0m\u001b[0mmatch\u001b[0m\u001b[0;34m(\u001b[0m\u001b[0;34m\"Seira's Black Cherry\"\u001b[0m\u001b[0;34m)\u001b[0m\u001b[0;34m\u001b[0m\u001b[0;34m\u001b[0m\u001b[0m\n\u001b[0m",
      "\u001b[0;32m~/Desktop/il-reboot-capstone/DreamingLlamas-capstone-2021/holden.py\u001b[0m in \u001b[0;36mmatch\u001b[0;34m(self, item)\u001b[0m\n\u001b[1;32m     46\u001b[0m \u001b[0;34m\u001b[0m\u001b[0m\n\u001b[1;32m     47\u001b[0m     \u001b[0;32mdef\u001b[0m \u001b[0mmatch\u001b[0m\u001b[0;34m(\u001b[0m\u001b[0mself\u001b[0m\u001b[0;34m,\u001b[0m\u001b[0mitem\u001b[0m\u001b[0;34m)\u001b[0m\u001b[0;34m:\u001b[0m\u001b[0;34m\u001b[0m\u001b[0;34m\u001b[0m\u001b[0m\n\u001b[0;32m---> 48\u001b[0;31m         \u001b[0mitem_index\u001b[0m \u001b[0;34m=\u001b[0m \u001b[0mself\u001b[0m\u001b[0;34m.\u001b[0m\u001b[0mget_index_from_id\u001b[0m\u001b[0;34m(\u001b[0m\u001b[0mself\u001b[0m\u001b[0;34m.\u001b[0m\u001b[0mget_id_from_item\u001b[0m\u001b[0;34m(\u001b[0m\u001b[0mitem\u001b[0m\u001b[0;34m)\u001b[0m\u001b[0;34m)\u001b[0m\u001b[0;34m\u001b[0m\u001b[0;34m\u001b[0m\u001b[0m\n\u001b[0m\u001b[1;32m     49\u001b[0m         \u001b[0msimilar_soft_drinks\u001b[0m \u001b[0;34m=\u001b[0m \u001b[0mlist\u001b[0m\u001b[0;34m(\u001b[0m\u001b[0menumerate\u001b[0m\u001b[0;34m(\u001b[0m\u001b[0mself\u001b[0m\u001b[0;34m.\u001b[0m\u001b[0mcosine_sim\u001b[0m\u001b[0;34m[\u001b[0m\u001b[0mitem_index\u001b[0m\u001b[0;34m]\u001b[0m\u001b[0;34m)\u001b[0m\u001b[0;34m)\u001b[0m\u001b[0;34m\u001b[0m\u001b[0;34m\u001b[0m\u001b[0m\n\u001b[1;32m     50\u001b[0m         \u001b[0msimilar_sorted\u001b[0m \u001b[0;34m=\u001b[0m \u001b[0msorted\u001b[0m\u001b[0;34m(\u001b[0m\u001b[0msimilar_soft_drinks\u001b[0m\u001b[0;34m,\u001b[0m\u001b[0mkey\u001b[0m\u001b[0;34m=\u001b[0m\u001b[0;32mlambda\u001b[0m \u001b[0mx\u001b[0m\u001b[0;34m:\u001b[0m\u001b[0mx\u001b[0m\u001b[0;34m[\u001b[0m\u001b[0;36m1\u001b[0m\u001b[0;34m]\u001b[0m\u001b[0;34m,\u001b[0m\u001b[0mreverse\u001b[0m\u001b[0;34m=\u001b[0m\u001b[0;32mTrue\u001b[0m\u001b[0;34m)\u001b[0m\u001b[0;34m[\u001b[0m\u001b[0;36m1\u001b[0m\u001b[0;34m:\u001b[0m\u001b[0;34m]\u001b[0m\u001b[0;34m\u001b[0m\u001b[0;34m\u001b[0m\u001b[0m\n",
      "\u001b[0;32m~/Desktop/il-reboot-capstone/DreamingLlamas-capstone-2021/holden.py\u001b[0m in \u001b[0;36mget_id_from_item\u001b[0;34m(self, item)\u001b[0m\n\u001b[1;32m     20\u001b[0m         \u001b[0;32mreturn\u001b[0m \u001b[0mself\u001b[0m\u001b[0;34m.\u001b[0m\u001b[0mdf\u001b[0m\u001b[0;34m[\u001b[0m\u001b[0mself\u001b[0m\u001b[0;34m.\u001b[0m\u001b[0mdf\u001b[0m\u001b[0;34m[\u001b[0m\u001b[0;34m'Item_id'\u001b[0m\u001b[0;34m]\u001b[0m \u001b[0;34m==\u001b[0m \u001b[0mid\u001b[0m\u001b[0;34m]\u001b[0m\u001b[0;34m[\u001b[0m\u001b[0;34m'Item_Description'\u001b[0m\u001b[0;34m]\u001b[0m\u001b[0;34m.\u001b[0m\u001b[0miloc\u001b[0m\u001b[0;34m[\u001b[0m\u001b[0;36m0\u001b[0m\u001b[0;34m]\u001b[0m\u001b[0;34m\u001b[0m\u001b[0;34m\u001b[0m\u001b[0m\n\u001b[1;32m     21\u001b[0m     \u001b[0;32mdef\u001b[0m \u001b[0mget_id_from_item\u001b[0m\u001b[0;34m(\u001b[0m\u001b[0mself\u001b[0m\u001b[0;34m,\u001b[0m\u001b[0mitem\u001b[0m\u001b[0;34m)\u001b[0m\u001b[0;34m:\u001b[0m\u001b[0;34m\u001b[0m\u001b[0;34m\u001b[0m\u001b[0m\n\u001b[0;32m---> 22\u001b[0;31m         \u001b[0;32mreturn\u001b[0m \u001b[0mself\u001b[0m\u001b[0;34m.\u001b[0m\u001b[0mdf\u001b[0m\u001b[0;34m[\u001b[0m\u001b[0mself\u001b[0m\u001b[0;34m.\u001b[0m\u001b[0mdf\u001b[0m\u001b[0;34m[\u001b[0m\u001b[0;34m'Item_Description'\u001b[0m\u001b[0;34m]\u001b[0m \u001b[0;34m==\u001b[0m \u001b[0mitem\u001b[0m\u001b[0;34m]\u001b[0m\u001b[0;34m[\u001b[0m\u001b[0;34m'Item_id'\u001b[0m\u001b[0;34m]\u001b[0m\u001b[0;34m.\u001b[0m\u001b[0miloc\u001b[0m\u001b[0;34m[\u001b[0m\u001b[0;36m0\u001b[0m\u001b[0;34m]\u001b[0m\u001b[0;34m\u001b[0m\u001b[0;34m\u001b[0m\u001b[0m\n\u001b[0m\u001b[1;32m     23\u001b[0m \u001b[0;34m\u001b[0m\u001b[0m\n\u001b[1;32m     24\u001b[0m     \u001b[0;32mdef\u001b[0m \u001b[0mget_index_from_id\u001b[0m\u001b[0;34m(\u001b[0m\u001b[0mself\u001b[0m\u001b[0;34m,\u001b[0m\u001b[0mid\u001b[0m\u001b[0;34m)\u001b[0m\u001b[0;34m:\u001b[0m\u001b[0;34m\u001b[0m\u001b[0;34m\u001b[0m\u001b[0m\n",
      "\u001b[0;32m/opt/anaconda3/lib/python3.8/site-packages/pandas/core/indexing.py\u001b[0m in \u001b[0;36m__getitem__\u001b[0;34m(self, key)\u001b[0m\n\u001b[1;32m    877\u001b[0m \u001b[0;34m\u001b[0m\u001b[0m\n\u001b[1;32m    878\u001b[0m             \u001b[0mmaybe_callable\u001b[0m \u001b[0;34m=\u001b[0m \u001b[0mcom\u001b[0m\u001b[0;34m.\u001b[0m\u001b[0mapply_if_callable\u001b[0m\u001b[0;34m(\u001b[0m\u001b[0mkey\u001b[0m\u001b[0;34m,\u001b[0m \u001b[0mself\u001b[0m\u001b[0;34m.\u001b[0m\u001b[0mobj\u001b[0m\u001b[0;34m)\u001b[0m\u001b[0;34m\u001b[0m\u001b[0;34m\u001b[0m\u001b[0m\n\u001b[0;32m--> 879\u001b[0;31m             \u001b[0;32mreturn\u001b[0m \u001b[0mself\u001b[0m\u001b[0;34m.\u001b[0m\u001b[0m_getitem_axis\u001b[0m\u001b[0;34m(\u001b[0m\u001b[0mmaybe_callable\u001b[0m\u001b[0;34m,\u001b[0m \u001b[0maxis\u001b[0m\u001b[0;34m=\u001b[0m\u001b[0maxis\u001b[0m\u001b[0;34m)\u001b[0m\u001b[0;34m\u001b[0m\u001b[0;34m\u001b[0m\u001b[0m\n\u001b[0m\u001b[1;32m    880\u001b[0m \u001b[0;34m\u001b[0m\u001b[0m\n\u001b[1;32m    881\u001b[0m     \u001b[0;32mdef\u001b[0m \u001b[0m_is_scalar_access\u001b[0m\u001b[0;34m(\u001b[0m\u001b[0mself\u001b[0m\u001b[0;34m,\u001b[0m \u001b[0mkey\u001b[0m\u001b[0;34m:\u001b[0m \u001b[0mTuple\u001b[0m\u001b[0;34m)\u001b[0m\u001b[0;34m:\u001b[0m\u001b[0;34m\u001b[0m\u001b[0;34m\u001b[0m\u001b[0m\n",
      "\u001b[0;32m/opt/anaconda3/lib/python3.8/site-packages/pandas/core/indexing.py\u001b[0m in \u001b[0;36m_getitem_axis\u001b[0;34m(self, key, axis)\u001b[0m\n\u001b[1;32m   1494\u001b[0m \u001b[0;34m\u001b[0m\u001b[0m\n\u001b[1;32m   1495\u001b[0m             \u001b[0;31m# validate the location\u001b[0m\u001b[0;34m\u001b[0m\u001b[0;34m\u001b[0m\u001b[0;34m\u001b[0m\u001b[0m\n\u001b[0;32m-> 1496\u001b[0;31m             \u001b[0mself\u001b[0m\u001b[0;34m.\u001b[0m\u001b[0m_validate_integer\u001b[0m\u001b[0;34m(\u001b[0m\u001b[0mkey\u001b[0m\u001b[0;34m,\u001b[0m \u001b[0maxis\u001b[0m\u001b[0;34m)\u001b[0m\u001b[0;34m\u001b[0m\u001b[0;34m\u001b[0m\u001b[0m\n\u001b[0m\u001b[1;32m   1497\u001b[0m \u001b[0;34m\u001b[0m\u001b[0m\n\u001b[1;32m   1498\u001b[0m             \u001b[0;32mreturn\u001b[0m \u001b[0mself\u001b[0m\u001b[0;34m.\u001b[0m\u001b[0mobj\u001b[0m\u001b[0;34m.\u001b[0m\u001b[0m_ixs\u001b[0m\u001b[0;34m(\u001b[0m\u001b[0mkey\u001b[0m\u001b[0;34m,\u001b[0m \u001b[0maxis\u001b[0m\u001b[0;34m=\u001b[0m\u001b[0maxis\u001b[0m\u001b[0;34m)\u001b[0m\u001b[0;34m\u001b[0m\u001b[0;34m\u001b[0m\u001b[0m\n",
      "\u001b[0;32m/opt/anaconda3/lib/python3.8/site-packages/pandas/core/indexing.py\u001b[0m in \u001b[0;36m_validate_integer\u001b[0;34m(self, key, axis)\u001b[0m\n\u001b[1;32m   1435\u001b[0m         \u001b[0mlen_axis\u001b[0m \u001b[0;34m=\u001b[0m \u001b[0mlen\u001b[0m\u001b[0;34m(\u001b[0m\u001b[0mself\u001b[0m\u001b[0;34m.\u001b[0m\u001b[0mobj\u001b[0m\u001b[0;34m.\u001b[0m\u001b[0m_get_axis\u001b[0m\u001b[0;34m(\u001b[0m\u001b[0maxis\u001b[0m\u001b[0;34m)\u001b[0m\u001b[0;34m)\u001b[0m\u001b[0;34m\u001b[0m\u001b[0;34m\u001b[0m\u001b[0m\n\u001b[1;32m   1436\u001b[0m         \u001b[0;32mif\u001b[0m \u001b[0mkey\u001b[0m \u001b[0;34m>=\u001b[0m \u001b[0mlen_axis\u001b[0m \u001b[0;32mor\u001b[0m \u001b[0mkey\u001b[0m \u001b[0;34m<\u001b[0m \u001b[0;34m-\u001b[0m\u001b[0mlen_axis\u001b[0m\u001b[0;34m:\u001b[0m\u001b[0;34m\u001b[0m\u001b[0;34m\u001b[0m\u001b[0m\n\u001b[0;32m-> 1437\u001b[0;31m             \u001b[0;32mraise\u001b[0m \u001b[0mIndexError\u001b[0m\u001b[0;34m(\u001b[0m\u001b[0;34m\"single positional indexer is out-of-bounds\"\u001b[0m\u001b[0;34m)\u001b[0m\u001b[0;34m\u001b[0m\u001b[0;34m\u001b[0m\u001b[0m\n\u001b[0m\u001b[1;32m   1438\u001b[0m \u001b[0;34m\u001b[0m\u001b[0m\n\u001b[1;32m   1439\u001b[0m     \u001b[0;31m# -------------------------------------------------------------------\u001b[0m\u001b[0;34m\u001b[0m\u001b[0;34m\u001b[0m\u001b[0;34m\u001b[0m\u001b[0m\n",
      "\u001b[0;31mIndexError\u001b[0m: single positional indexer is out-of-bounds"
     ]
    }
   ],
   "source": [
    "rec.match(\"Seira's Black Cherry\")"
   ]
  },
  {
   "cell_type": "markdown",
   "metadata": {},
   "source": [
    "### Team 1 Report:\n",
    "We tried to look up solution to this error. We understand that it has something to do with how holden is indexing through our dataset but it might be going beyond the available indices within the table. We're not sure how to troubleshoot this but tried a variety of methods including iloc, loc, basic indexing in various locations within our code. The indexing method that we left in our code for submission is one that didn't generate an error and was the simplest iteration of our indexing-based solution to the \"IndexError.\""
   ]
  },
  {
   "cell_type": "code",
   "execution_count": null,
   "metadata": {},
   "outputs": [],
   "source": []
  }
 ],
 "metadata": {
  "kernelspec": {
   "display_name": "Python 3",
   "language": "python",
   "name": "python3"
  },
  "language_info": {
   "codemirror_mode": {
    "name": "ipython",
    "version": 3
   },
   "file_extension": ".py",
   "mimetype": "text/x-python",
   "name": "python",
   "nbconvert_exporter": "python",
   "pygments_lexer": "ipython3",
   "version": "3.8.5"
  }
 },
 "nbformat": 4,
 "nbformat_minor": 4
}
